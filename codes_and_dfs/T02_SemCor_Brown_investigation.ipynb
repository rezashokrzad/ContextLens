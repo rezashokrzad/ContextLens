{
  "cells": [
    {
      "cell_type": "markdown",
      "source": [
        "#exploring on SemCor and Brown Corpus\n",
        "In this notebook, we will investigate the list of adjectives in both corpora regarding senses and shared tags.  "
      ],
      "metadata": {
        "id": "oVjSZEzjAUTN"
      }
    },
    {
      "cell_type": "code",
      "source": [
        "#import packages\n",
        "from nltk.corpus import wordnet\n",
        "from nltk.corpus import semcor\n",
        "from nltk.corpus import brown\n",
        "from nltk.tokenize import RegexpTokenizer\n",
        "from nltk.corpus import stopwords\n",
        "from nltk.stem import WordNetLemmatizer\n",
        "from collections import defaultdict\n",
        "from nltk.corpus import semcor\n",
        "from nltk.corpus import wordnet as wn \n",
        "from nltk.corpus.reader.wordnet import Lemma\n",
        "from nltk.corpus.reader.wordnet import Synset\n",
        "from re import sub\n",
        "import re\n",
        "import nltk\n",
        "import numpy as np\n",
        "import pandas as pd\n",
        "import matplotlib.pyplot as plt\n",
        "import scipy.stats\n",
        "import pickle\n",
        "from tqdm.notebook import tqdm\n",
        "import warnings\n",
        "warnings.filterwarnings('ignore')"
      ],
      "metadata": {
        "id": "Dl-5jHURMYu2"
      },
      "execution_count": null,
      "outputs": []
    },
    {
      "cell_type": "code",
      "source": [
        "nltk.__version__"
      ],
      "metadata": {
        "colab": {
          "base_uri": "https://localhost:8080/",
          "height": 36
        },
        "id": "LZxsoKM5iN96",
        "outputId": "356954eb-0405-46c9-cba1-39938e8c1833"
      },
      "execution_count": null,
      "outputs": [
        {
          "output_type": "execute_result",
          "data": {
            "text/plain": [
              "'3.7'"
            ],
            "application/vnd.google.colaboratory.intrinsic+json": {
              "type": "string"
            }
          },
          "metadata": {},
          "execution_count": 2
        }
      ]
    },
    {
      "cell_type": "markdown",
      "source": [
        "## SemCor"
      ],
      "metadata": {
        "id": "ZXM26yClBBAR"
      }
    },
    {
      "cell_type": "code",
      "source": [
        "#semcor setup\n",
        "nltk.download('semcor')\n",
        "semcor_words = semcor.words()\n",
        "# len(semcor_words) #820411\n",
        "semcor_chunks = semcor.chunks()\n",
        "# len(semcor_chunks) #778587\n",
        "semcor_sents = semcor.sents()\n",
        "# len(semcor_sent) #37176\n",
        "myword = 'present'"
      ],
      "metadata": {
        "colab": {
          "base_uri": "https://localhost:8080/"
        },
        "id": "sVAayNnbMlDX",
        "outputId": "59825eb5-8164-46b0-eda5-71da12fb0fd1"
      },
      "execution_count": null,
      "outputs": [
        {
          "output_type": "stream",
          "name": "stderr",
          "text": [
            "[nltk_data] Downloading package semcor to /root/nltk_data...\n"
          ]
        }
      ]
    },
    {
      "cell_type": "code",
      "source": [
        "#cerate the list of adjectives with sense and POS taggs.\n",
        "cnt = 0\n",
        "ban_char = [' ', '-']\n",
        "semcor_adj_idx_sns_dict = dict()\n",
        "sense_adj_dict = dict()\n",
        "for chunk in semcor.tagged_chunks(tag=(\"both\")):\n",
        "  #check if POS is 'JJ'\n",
        "  if 'JJ' in str(chunk):\n",
        "    idx_start = str(chunk).replace(\"'\",\"\").find('JJ')\n",
        "    idx_end = str(chunk).replace(\"'\",\"\").find(')', idx_start)\n",
        "    \n",
        "    if any(ch in str(chunk)[idx_start+3: idx_end] for ch in ban_char) or \\\n",
        "    any(chr.isdigit() for chr in str(chunk)[idx_start+3: idx_end]):\n",
        "      pass\n",
        "    else:\n",
        "      adj = str(chunk)[idx_start+3: idx_end].lower()\n",
        "      if str(chunk)[idx_start-3].isdigit() and str(chunk)[idx_start-4].isdigit():\n",
        "        adj_sense = str(chunk)[idx_start-6: idx_start-2].lower()\n",
        "\n",
        "      else:\n",
        "        adj_sense = ''\n",
        "    #remove non-sense words which are not adj  \n",
        "      if len(adj) > 2 and len(adj_sense) > 1:\n",
        "        semcor_adj_idx_sns_dict[cnt] = (adj, adj_sense)\n",
        "        adj_sense_format = adj_sense + ', '\n",
        "        if adj in sense_adj_dict.keys():\n",
        "          sense_adj_dict[adj] += adj_sense_format\n",
        "        else:\n",
        "          sense_adj_dict[adj] = adj_sense_format\n",
        "\n",
        "    cnt += 1"
      ],
      "metadata": {
        "id": "IHQOhffNTATy"
      },
      "execution_count": null,
      "outputs": []
    },
    {
      "cell_type": "code",
      "source": [
        "sense_set_adj_dict = dict()\n",
        "for ky, vlu in sense_adj_dict.items():\n",
        "  vlu_format = vlu.split(', ')\n",
        "  vlu_format.remove('')\n",
        "  sense_set_adj_dict[ky] = set(vlu_format)"
      ],
      "metadata": {
        "id": "FyL-UCklG0Dv"
      },
      "execution_count": null,
      "outputs": []
    },
    {
      "cell_type": "code",
      "source": [
        "#check the sense types of a word\n",
        "myword_list = []\n",
        "for val in semcor_adj_idx_sns_dict.values():\n",
        "  if myword in val:\n",
        "    myword_list.append(val[1])\n",
        "\n",
        "print(set(myword_list))"
      ],
      "metadata": {
        "colab": {
          "base_uri": "https://localhost:8080/"
        },
        "id": "jHzp9QkRc0H_",
        "outputId": "823dae21-da87-4de8-a363-60951acca0d6"
      },
      "execution_count": null,
      "outputs": [
        {
          "output_type": "stream",
          "name": "stdout",
          "text": [
            "{'a.01', 'a.02'}\n"
          ]
        }
      ]
    },
    {
      "cell_type": "code",
      "source": [
        "len(semcor_adj_idx_sns_dict)"
      ],
      "metadata": {
        "colab": {
          "base_uri": "https://localhost:8080/"
        },
        "id": "JFn8ZJFSbLFp",
        "outputId": "40bd1b46-caac-467c-8107-5f3d6ebb3efb"
      },
      "execution_count": null,
      "outputs": [
        {
          "output_type": "execute_result",
          "data": {
            "text/plain": [
              "32755"
            ]
          },
          "metadata": {},
          "execution_count": 7
        }
      ]
    },
    {
      "cell_type": "code",
      "source": [
        "semcor_adj_idx_sns_df = pd.DataFrame.from_dict(semcor_adj_idx_sns_dict).T\n",
        "semcor_adj_idx_sns_df.rename(columns={0: \"adjective\", 1: \"sense\"}, inplace=True)"
      ],
      "metadata": {
        "id": "gK5fUppzr_FD"
      },
      "execution_count": null,
      "outputs": []
    },
    {
      "cell_type": "code",
      "source": [
        "semcor_adj_idx_sns_df.shape[0]"
      ],
      "metadata": {
        "colab": {
          "base_uri": "https://localhost:8080/"
        },
        "id": "d6662ZYrqL39",
        "outputId": "266e7889-3a29-42d0-a441-c2f4ae0dd1da"
      },
      "execution_count": null,
      "outputs": [
        {
          "output_type": "execute_result",
          "data": {
            "text/plain": [
              "32755"
            ]
          },
          "metadata": {},
          "execution_count": 9
        }
      ]
    },
    {
      "cell_type": "code",
      "source": [
        "semcor_adj_idx_sns_df[semcor_adj_idx_sns_df['adjective'] == myword].head()\n",
        "set_adj_types = set(semcor_adj_idx_sns_df['adjective'])"
      ],
      "metadata": {
        "id": "jhg_XBadp60U"
      },
      "execution_count": null,
      "outputs": []
    },
    {
      "cell_type": "code",
      "source": [
        "# how many sense for each adjective\n",
        "semcor_adj_idx_sns_freq = semcor_adj_idx_sns_df.groupby([\"adjective\", \"sense\"]).size()"
      ],
      "metadata": {
        "id": "HCk3EZKtiu3b"
      },
      "execution_count": null,
      "outputs": []
    },
    {
      "cell_type": "code",
      "source": [
        "Nr_adjectives = semcor_adj_idx_sns_df.groupby([\"adjective\"]).count().count()[0]\n",
        "df_tokens = semcor_adj_idx_sns_df.groupby([\"adjective\"]).count()"
      ],
      "metadata": {
        "id": "46C8H0wQ40wW"
      },
      "execution_count": null,
      "outputs": []
    },
    {
      "cell_type": "code",
      "source": [
        "#how many adjective semcor has for each sense!\n",
        "semcor_sns_idx_adj_freq = semcor_adj_idx_sns_df.groupby([\"sense\", \"adjective\"]).size()"
      ],
      "metadata": {
        "id": "suzYmKmgIMoJ"
      },
      "execution_count": null,
      "outputs": []
    },
    {
      "cell_type": "code",
      "source": [
        "semcor_adj_idx_sns_freq[myword]"
      ],
      "metadata": {
        "id": "qR5-tC3Bz0d9",
        "colab": {
          "base_uri": "https://localhost:8080/"
        },
        "outputId": "384d1e2b-e601-44a7-de25-23bc1a72366c"
      },
      "execution_count": null,
      "outputs": [
        {
          "output_type": "execute_result",
          "data": {
            "text/plain": [
              "sense\n",
              "a.01    55\n",
              "a.02    39\n",
              "dtype: int64"
            ]
          },
          "metadata": {},
          "execution_count": 16
        }
      ]
    },
    {
      "cell_type": "code",
      "source": [
        "semcor_adj_idx_sns_freq[myword].sum()"
      ],
      "metadata": {
        "id": "ybu5stz2yEuW",
        "colab": {
          "base_uri": "https://localhost:8080/"
        },
        "outputId": "8918661a-68bf-4e87-f293-fd2b28803e0a"
      },
      "execution_count": null,
      "outputs": [
        {
          "output_type": "execute_result",
          "data": {
            "text/plain": [
              "94"
            ]
          },
          "metadata": {},
          "execution_count": 17
        }
      ]
    },
    {
      "cell_type": "code",
      "source": [
        "#list of words with a specific sense\n",
        "semcor_sns_idx_adj_freq['s.00'].head()"
      ],
      "metadata": {
        "id": "XWZeQDgLIb5T",
        "colab": {
          "base_uri": "https://localhost:8080/"
        },
        "outputId": "dfa54d07-eb8e-4ff5-f2fc-a3323f44c83a"
      },
      "execution_count": null,
      "outputs": [
        {
          "output_type": "execute_result",
          "data": {
            "text/plain": [
              "adjective\n",
              "abandoned       1\n",
              "abstract        1\n",
              "abstracted      2\n",
              "accelerated     2\n",
              "accelerating    2\n",
              "dtype: int64"
            ]
          },
          "metadata": {},
          "execution_count": 18
        }
      ]
    },
    {
      "cell_type": "code",
      "source": [
        "semcor_sns_idx_adj_freq = pd.DataFrame(semcor_sns_idx_adj_freq, columns=['token frequency'])\n",
        "semcor_adj_idx_sns_freq = pd.DataFrame(semcor_adj_idx_sns_freq, columns=['Nr. adj_senses'])"
      ],
      "metadata": {
        "id": "5UdIjF59zy6z"
      },
      "execution_count": null,
      "outputs": []
    },
    {
      "cell_type": "code",
      "source": [
        "semcor_adj_idx_sns_freq.head(20)"
      ],
      "metadata": {
        "id": "owzYXLjSHAA4",
        "colab": {
          "base_uri": "https://localhost:8080/",
          "height": 707
        },
        "outputId": "748376a6-9e26-4ee1-e8df-cf210a3d840b"
      },
      "execution_count": null,
      "outputs": [
        {
          "output_type": "execute_result",
          "data": {
            "text/plain": [
              "                   Nr. adj_senses\n",
              "adjective   sense                \n",
              "abandoned   s.00                1\n",
              "            s.01                1\n",
              "abbreviated s.01                1\n",
              "abdominal   a.01                3\n",
              "aberrant    s.01                1\n",
              "abhorrent   s.01                1\n",
              "abiding     s.01                2\n",
              "abject      s.01                1\n",
              "ablated     s.01                1\n",
              "ablaze      s.01                1\n",
              "able        a.01               67\n",
              "            s.02                6\n",
              "            s.03                4\n",
              "abler       a.01                1\n",
              "abnormal    a.01                1\n",
              "abounding   s.01                1\n",
              "above       s.01               13\n",
              "aboveground s.01                1\n",
              "abroad      s.01                6\n",
              "abrupt      s.01                2"
            ],
            "text/html": [
              "\n",
              "  <div id=\"df-33de7beb-f74c-49c6-8452-c3eb1beb3b95\">\n",
              "    <div class=\"colab-df-container\">\n",
              "      <div>\n",
              "<style scoped>\n",
              "    .dataframe tbody tr th:only-of-type {\n",
              "        vertical-align: middle;\n",
              "    }\n",
              "\n",
              "    .dataframe tbody tr th {\n",
              "        vertical-align: top;\n",
              "    }\n",
              "\n",
              "    .dataframe thead th {\n",
              "        text-align: right;\n",
              "    }\n",
              "</style>\n",
              "<table border=\"1\" class=\"dataframe\">\n",
              "  <thead>\n",
              "    <tr style=\"text-align: right;\">\n",
              "      <th></th>\n",
              "      <th></th>\n",
              "      <th>Nr. adj_senses</th>\n",
              "    </tr>\n",
              "    <tr>\n",
              "      <th>adjective</th>\n",
              "      <th>sense</th>\n",
              "      <th></th>\n",
              "    </tr>\n",
              "  </thead>\n",
              "  <tbody>\n",
              "    <tr>\n",
              "      <th rowspan=\"2\" valign=\"top\">abandoned</th>\n",
              "      <th>s.00</th>\n",
              "      <td>1</td>\n",
              "    </tr>\n",
              "    <tr>\n",
              "      <th>s.01</th>\n",
              "      <td>1</td>\n",
              "    </tr>\n",
              "    <tr>\n",
              "      <th>abbreviated</th>\n",
              "      <th>s.01</th>\n",
              "      <td>1</td>\n",
              "    </tr>\n",
              "    <tr>\n",
              "      <th>abdominal</th>\n",
              "      <th>a.01</th>\n",
              "      <td>3</td>\n",
              "    </tr>\n",
              "    <tr>\n",
              "      <th>aberrant</th>\n",
              "      <th>s.01</th>\n",
              "      <td>1</td>\n",
              "    </tr>\n",
              "    <tr>\n",
              "      <th>abhorrent</th>\n",
              "      <th>s.01</th>\n",
              "      <td>1</td>\n",
              "    </tr>\n",
              "    <tr>\n",
              "      <th>abiding</th>\n",
              "      <th>s.01</th>\n",
              "      <td>2</td>\n",
              "    </tr>\n",
              "    <tr>\n",
              "      <th>abject</th>\n",
              "      <th>s.01</th>\n",
              "      <td>1</td>\n",
              "    </tr>\n",
              "    <tr>\n",
              "      <th>ablated</th>\n",
              "      <th>s.01</th>\n",
              "      <td>1</td>\n",
              "    </tr>\n",
              "    <tr>\n",
              "      <th>ablaze</th>\n",
              "      <th>s.01</th>\n",
              "      <td>1</td>\n",
              "    </tr>\n",
              "    <tr>\n",
              "      <th rowspan=\"3\" valign=\"top\">able</th>\n",
              "      <th>a.01</th>\n",
              "      <td>67</td>\n",
              "    </tr>\n",
              "    <tr>\n",
              "      <th>s.02</th>\n",
              "      <td>6</td>\n",
              "    </tr>\n",
              "    <tr>\n",
              "      <th>s.03</th>\n",
              "      <td>4</td>\n",
              "    </tr>\n",
              "    <tr>\n",
              "      <th>abler</th>\n",
              "      <th>a.01</th>\n",
              "      <td>1</td>\n",
              "    </tr>\n",
              "    <tr>\n",
              "      <th>abnormal</th>\n",
              "      <th>a.01</th>\n",
              "      <td>1</td>\n",
              "    </tr>\n",
              "    <tr>\n",
              "      <th>abounding</th>\n",
              "      <th>s.01</th>\n",
              "      <td>1</td>\n",
              "    </tr>\n",
              "    <tr>\n",
              "      <th>above</th>\n",
              "      <th>s.01</th>\n",
              "      <td>13</td>\n",
              "    </tr>\n",
              "    <tr>\n",
              "      <th>aboveground</th>\n",
              "      <th>s.01</th>\n",
              "      <td>1</td>\n",
              "    </tr>\n",
              "    <tr>\n",
              "      <th>abroad</th>\n",
              "      <th>s.01</th>\n",
              "      <td>6</td>\n",
              "    </tr>\n",
              "    <tr>\n",
              "      <th>abrupt</th>\n",
              "      <th>s.01</th>\n",
              "      <td>2</td>\n",
              "    </tr>\n",
              "  </tbody>\n",
              "</table>\n",
              "</div>\n",
              "      <button class=\"colab-df-convert\" onclick=\"convertToInteractive('df-33de7beb-f74c-49c6-8452-c3eb1beb3b95')\"\n",
              "              title=\"Convert this dataframe to an interactive table.\"\n",
              "              style=\"display:none;\">\n",
              "        \n",
              "  <svg xmlns=\"http://www.w3.org/2000/svg\" height=\"24px\"viewBox=\"0 0 24 24\"\n",
              "       width=\"24px\">\n",
              "    <path d=\"M0 0h24v24H0V0z\" fill=\"none\"/>\n",
              "    <path d=\"M18.56 5.44l.94 2.06.94-2.06 2.06-.94-2.06-.94-.94-2.06-.94 2.06-2.06.94zm-11 1L8.5 8.5l.94-2.06 2.06-.94-2.06-.94L8.5 2.5l-.94 2.06-2.06.94zm10 10l.94 2.06.94-2.06 2.06-.94-2.06-.94-.94-2.06-.94 2.06-2.06.94z\"/><path d=\"M17.41 7.96l-1.37-1.37c-.4-.4-.92-.59-1.43-.59-.52 0-1.04.2-1.43.59L10.3 9.45l-7.72 7.72c-.78.78-.78 2.05 0 2.83L4 21.41c.39.39.9.59 1.41.59.51 0 1.02-.2 1.41-.59l7.78-7.78 2.81-2.81c.8-.78.8-2.07 0-2.86zM5.41 20L4 18.59l7.72-7.72 1.47 1.35L5.41 20z\"/>\n",
              "  </svg>\n",
              "      </button>\n",
              "      \n",
              "  <style>\n",
              "    .colab-df-container {\n",
              "      display:flex;\n",
              "      flex-wrap:wrap;\n",
              "      gap: 12px;\n",
              "    }\n",
              "\n",
              "    .colab-df-convert {\n",
              "      background-color: #E8F0FE;\n",
              "      border: none;\n",
              "      border-radius: 50%;\n",
              "      cursor: pointer;\n",
              "      display: none;\n",
              "      fill: #1967D2;\n",
              "      height: 32px;\n",
              "      padding: 0 0 0 0;\n",
              "      width: 32px;\n",
              "    }\n",
              "\n",
              "    .colab-df-convert:hover {\n",
              "      background-color: #E2EBFA;\n",
              "      box-shadow: 0px 1px 2px rgba(60, 64, 67, 0.3), 0px 1px 3px 1px rgba(60, 64, 67, 0.15);\n",
              "      fill: #174EA6;\n",
              "    }\n",
              "\n",
              "    [theme=dark] .colab-df-convert {\n",
              "      background-color: #3B4455;\n",
              "      fill: #D2E3FC;\n",
              "    }\n",
              "\n",
              "    [theme=dark] .colab-df-convert:hover {\n",
              "      background-color: #434B5C;\n",
              "      box-shadow: 0px 1px 3px 1px rgba(0, 0, 0, 0.15);\n",
              "      filter: drop-shadow(0px 1px 2px rgba(0, 0, 0, 0.3));\n",
              "      fill: #FFFFFF;\n",
              "    }\n",
              "  </style>\n",
              "\n",
              "      <script>\n",
              "        const buttonEl =\n",
              "          document.querySelector('#df-33de7beb-f74c-49c6-8452-c3eb1beb3b95 button.colab-df-convert');\n",
              "        buttonEl.style.display =\n",
              "          google.colab.kernel.accessAllowed ? 'block' : 'none';\n",
              "\n",
              "        async function convertToInteractive(key) {\n",
              "          const element = document.querySelector('#df-33de7beb-f74c-49c6-8452-c3eb1beb3b95');\n",
              "          const dataTable =\n",
              "            await google.colab.kernel.invokeFunction('convertToInteractive',\n",
              "                                                     [key], {});\n",
              "          if (!dataTable) return;\n",
              "\n",
              "          const docLinkHtml = 'Like what you see? Visit the ' +\n",
              "            '<a target=\"_blank\" href=https://colab.research.google.com/notebooks/data_table.ipynb>data table notebook</a>'\n",
              "            + ' to learn more about interactive tables.';\n",
              "          element.innerHTML = '';\n",
              "          dataTable['output_type'] = 'display_data';\n",
              "          await google.colab.output.renderOutput(dataTable, element);\n",
              "          const docLink = document.createElement('div');\n",
              "          docLink.innerHTML = docLinkHtml;\n",
              "          element.appendChild(docLink);\n",
              "        }\n",
              "      </script>\n",
              "    </div>\n",
              "  </div>\n",
              "  "
            ]
          },
          "metadata": {},
          "execution_count": 20
        }
      ]
    },
    {
      "cell_type": "code",
      "source": [
        "semcor_adj_idx_sns_freq.iloc[2]"
      ],
      "metadata": {
        "colab": {
          "base_uri": "https://localhost:8080/"
        },
        "id": "ihy0Yy4G1pYZ",
        "outputId": "93709c9a-5a36-4764-8445-4ff2f8b51a27"
      },
      "execution_count": null,
      "outputs": [
        {
          "output_type": "execute_result",
          "data": {
            "text/plain": [
              "Nr. adj_senses    1\n",
              "Name: (abbreviated, s.01), dtype: int64"
            ]
          },
          "metadata": {},
          "execution_count": 21
        }
      ]
    },
    {
      "cell_type": "code",
      "source": [
        "for i in semcor_adj_idx_sns_freq.index:\n",
        "  print(i)\n",
        "  break"
      ],
      "metadata": {
        "colab": {
          "base_uri": "https://localhost:8080/"
        },
        "id": "y_Avlhd2tIc9",
        "outputId": "b3c0d757-614f-422d-d7fe-04f1b9b0a7fe"
      },
      "execution_count": null,
      "outputs": [
        {
          "output_type": "stream",
          "name": "stdout",
          "text": [
            "('abandoned', 's.00')\n"
          ]
        }
      ]
    },
    {
      "cell_type": "code",
      "source": [
        "current_word = ''\n",
        "prob_list = []\n",
        "entropy_list = np.zeros(Nr_adjectives)\n",
        "adjective_list = []\n",
        "cnt = 0\n",
        "for w in semcor_adj_idx_sns_freq.iterrows():\n",
        "  if w[0][0] != current_word or cnt==Nr_adjectives-2: #the word is changed\n",
        "    if len(prob_list) > 0:\n",
        "      entropy_list[cnt] = scipy.stats.entropy(prob_list)\n",
        "      adjective_list.append(current_word)\n",
        "      cnt += 1\n",
        "    current_word = w[0][0]\n",
        "    prob_list = []\n",
        "  prob_list.append(w[1][0])"
      ],
      "metadata": {
        "id": "xE9oUWhM3SXd"
      },
      "execution_count": null,
      "outputs": []
    },
    {
      "cell_type": "code",
      "source": [
        "adjective_entrpy_list = pd.DataFrame(adjective_list, columns=['adjective'])\n",
        "adjective_entrpy_list['adj_entropy'] = entropy_list"
      ],
      "metadata": {
        "id": "WJ43D7H-8_4e"
      },
      "execution_count": null,
      "outputs": []
    },
    {
      "cell_type": "code",
      "source": [
        "adjective_entrpy_list = pd.merge(adjective_entrpy_list, df_tokens, on ='adjective')"
      ],
      "metadata": {
        "id": "7pn6K34_OjIY"
      },
      "execution_count": null,
      "outputs": []
    },
    {
      "cell_type": "code",
      "source": [
        "#top adjective with the highest frequent senses\n",
        "plt.figure(dpi=300)\n",
        "semcor_adj_sns_top_freq = semcor_adj_idx_sns_freq.groupby('adjective').count()\n",
        "semcor_adj_sns_top_freq.sort_values(by='Nr. adj_senses', inplace=True, ascending=False)\n",
        "semcor_adj_sns_top_freq.iloc[:50].plot.bar(title='top adjectives based on the number of distinct senses');\n",
        "for i in range(50):\n",
        "  plt.text(i,\n",
        "           semcor_adj_sns_top_freq.loc[:, 'Nr. adj_senses'][i],\n",
        "           semcor_adj_sns_top_freq.loc[:, 'Nr. adj_senses'][i],\n",
        "           ha='center', fontsize=8)\n",
        "plt.tight_layout()\n",
        "plt.show()"
      ],
      "metadata": {
        "colab": {
          "base_uri": "https://localhost:8080/",
          "height": 315
        },
        "id": "FMij7iTcfjNs",
        "outputId": "eff6bca1-7887-4323-a206-5b1611ccc918"
      },
      "execution_count": null,
      "outputs": [
        {
          "output_type": "display_data",
          "data": {
            "text/plain": [
              "<Figure size 1800x1200 with 0 Axes>"
            ]
          },
          "metadata": {}
        },
        {
          "output_type": "display_data",
          "data": {
            "text/plain": [
              "<Figure size 432x288 with 1 Axes>"
            ],
            "image/png": "[encoded data removed]"
          },
          "metadata": {
            "needs_background": "light"
          }
        }
      ]
    },
    {
      "cell_type": "code",
      "source": [
        "adjective_entrpy_list = pd.merge(adjective_entrpy_list, semcor_adj_sns_top_freq, on ='adjective')"
      ],
      "metadata": {
        "id": "kUWw9cUKaWVC"
      },
      "execution_count": null,
      "outputs": []
    },
    {
      "cell_type": "code",
      "source": [
        "adjective_entrpy_list.rename(columns={'adjective': 'adj_type', 'sense': 'token_freq'},\n",
        "                             inplace=True)"
      ],
      "metadata": {
        "id": "fWGVL9KNPIT0"
      },
      "execution_count": null,
      "outputs": []
    },
    {
      "cell_type": "code",
      "source": [
        "adjective_entrpy_list.to_excel('List of adj_entrpy.xlsx')"
      ],
      "metadata": {
        "id": "ta7selytQf_I"
      },
      "execution_count": null,
      "outputs": []
    },
    {
      "cell_type": "code",
      "source": [
        "#top senses with highest frequent adjectives\n",
        "plt.figure(dpi=300)\n",
        "semcor_sns_adj_top_freq = semcor_sns_idx_adj_freq.groupby('sense').count()\n",
        "semcor_sns_adj_top_freq.sort_values(by='token frequency', inplace=True, ascending=False)\n",
        "semcor_sns_adj_top_freq.iloc[:25].plot.bar(title='top senses based on the number of distinct adjs');\n",
        "for i in range(25):\n",
        "  plt.text(i,\n",
        "           semcor_sns_adj_top_freq.loc[:, 'token frequency'][i],\n",
        "           semcor_sns_adj_top_freq.loc[:, 'token frequency'][i],\n",
        "           ha='center', fontsize=8)\n",
        "\n",
        "plt.tight_layout()"
      ],
      "metadata": {
        "colab": {
          "base_uri": "https://localhost:8080/",
          "height": 315
        },
        "id": "FvArJQFqI6M6",
        "outputId": "fad87033-a24f-4fb4-9094-e561e6dbf3d4"
      },
      "execution_count": null,
      "outputs": [
        {
          "output_type": "display_data",
          "data": {
            "text/plain": [
              "<Figure size 1800x1200 with 0 Axes>"
            ]
          },
          "metadata": {}
        },
        {
          "output_type": "display_data",
          "data": {
            "text/plain": [
              "<Figure size 432x288 with 1 Axes>"
            ],
            "image/png": "[encoded data removed]"
          },
          "metadata": {
            "needs_background": "light"
          }
        }
      ]
    },
    {
      "cell_type": "code",
      "source": [
        "semcor_adj_freq = pd.DataFrame(semcor_adj_idx_sns_df.groupby([\"adjective\"]).size(),\n",
        "                               columns=['token frequency'])\n",
        "semcor_adj_freq.sort_values(by='token frequency', inplace=True, ascending=False)"
      ],
      "metadata": {
        "id": "YWuL3bqMjDUG"
      },
      "execution_count": null,
      "outputs": []
    },
    {
      "cell_type": "code",
      "source": [
        "semcor_adj_sense = pd.merge(semcor_adj_sns_top_freq, \n",
        "                            semcor_adj_freq, on='adjective')"
      ],
      "metadata": {
        "id": "d6Un9Fy65bsg"
      },
      "execution_count": null,
      "outputs": []
    },
    {
      "cell_type": "code",
      "source": [
        "#semcor adj sense bar chart\n",
        "plt.figure(figsize=(10,4), dpi=300)\n",
        "semcor_adj_freq.iloc[:25].plot.bar(title='Top 25 frequent adjective types in SemCor')\n",
        "for i in range(25):\n",
        "  plt.text(i,\n",
        "           semcor_adj_freq.loc[:, 'token frequency'][i] // 2,\n",
        "           semcor_adj_freq.loc[:, 'token frequency'][i],\n",
        "           ha='center', rotation=90, fontsize=8)\n",
        "\n",
        "plt.tight_layout()"
      ],
      "metadata": {
        "colab": {
          "base_uri": "https://localhost:8080/",
          "height": 315
        },
        "id": "5JwcdOUT1nC1",
        "outputId": "fafa3973-61a9-4c0e-8860-23fb961b58d2"
      },
      "execution_count": null,
      "outputs": [
        {
          "output_type": "display_data",
          "data": {
            "text/plain": [
              "<Figure size 3000x1200 with 0 Axes>"
            ]
          },
          "metadata": {}
        },
        {
          "output_type": "display_data",
          "data": {
            "text/plain": [
              "<Figure size 432x288 with 1 Axes>"
            ],
            "image/png": "[encoded data removed]"
          },
          "metadata": {
            "needs_background": "light"
          }
        }
      ]
    },
    {
      "cell_type": "markdown",
      "source": [
        "## Brown"
      ],
      "metadata": {
        "id": "AdouvIDWBEpj"
      }
    },
    {
      "cell_type": "code",
      "source": [
        "nltk.download('brown')\n",
        "# Brown methods\n",
        "brown_words = brown.words()\n",
        "# len(brown_words) #1161192\n",
        "brown_tagged_words = brown.tagged_words()\n",
        "# len(brown_tagged_words) #1161192\n",
        "brown_sents = brown.sents()\n",
        "# len(brown_sents) #57340\n",
        "#categories\n",
        "print(brown.categories())\n",
        "#categorized access\n",
        "brown.words(categories='news')"
      ],
      "metadata": {
        "id": "N7_ZxzKzApgk"
      },
      "execution_count": null,
      "outputs": []
    },
    {
      "cell_type": "code",
      "source": [
        "from collections import defaultdict, Counter\n",
        "word_tags = defaultdict(Counter)\n",
        "for word, pos in brown.tagged_words():\n",
        "    word_tags[word][pos] += 1\n",
        "\n",
        "print(word_tags)"
      ],
      "metadata": {
        "id": "A7ZLUh9-FMUQ"
      },
      "execution_count": null,
      "outputs": []
    },
    {
      "cell_type": "code",
      "source": [
        "word_tags['great']"
      ],
      "metadata": {
        "id": "qz-cwo_iX25N"
      },
      "execution_count": null,
      "outputs": []
    },
    {
      "cell_type": "code",
      "source": [
        "cnt = 0\n",
        "brown_adj_idx_sns_dict = dict()\n",
        "for chunk in brown.tagged_words():\n",
        "  #check if POS is 'JJ'\n",
        "  if 'JJ' in str(chunk):\n",
        "    idx_start = str(chunk).replace(\"'\",\"\").find('JJ')\n",
        "    idx_end = str(chunk).replace(\"'\",\"\").find(')', idx_start)\n",
        "    adj = str(chunk)[idx_start+3: idx_end]\n",
        "    if str(chunk)[idx_start-3].isdigit() and str(chunk)[idx_start-4].isdigit():\n",
        "      adj_sense = str(chunk)[idx_start-6: idx_start-2].lower()\n",
        "    else:\n",
        "      adj_sense = ''\n",
        "    #remove non-sense words which are not adj  \n",
        "    if len(adj) > 2 and len(adj_sense) > 1:\n",
        "      brown_adj_idx_sns_dict[cnt] = (adj, adj_sense)\n",
        "  cnt += 1"
      ],
      "metadata": {
        "id": "4piu41jdCoOI"
      },
      "execution_count": null,
      "outputs": []
    },
    {
      "cell_type": "code",
      "source": [
        "#exploring in Brown\n",
        "news_text = brown.words(categories='news')\n",
        "fdist = nltk.FreqDist(w.lower() for w in news_text)\n",
        "modals = ['can', 'could', 'may', 'might', 'must', 'will']\n",
        "for m in modals:\n",
        "  print(m + ':', fdist[m], end=' ')"
      ],
      "metadata": {
        "id": "Qof1OXBmBZ29"
      },
      "execution_count": null,
      "outputs": []
    },
    {
      "cell_type": "code",
      "source": [
        "cfd = nltk.ConditionalFreqDist((genre, word)\n",
        "for genre in brown.categories()\n",
        "for word in brown.words(categories=genre))\n",
        "genres = ['adventure', 'belles_lettres', 'editorial', 'fiction', 'government', 'hobbies', 'humor', \n",
        "          'learned', 'lore', 'mystery', 'news', 'religion', 'reviews', 'romance', 'science_fiction']\n",
        "adjs = ['great', 'small', 'big', 'high', 'large', 'tall', 'nice',\n",
        "        'sweet', 'charming',  'delicious', 'awful']\n",
        "cfd.tabulate(conditions=genres, samples=adjs, cumulative=False)"
      ],
      "metadata": {
        "id": "wcfuxx8iBoiL"
      },
      "execution_count": null,
      "outputs": []
    },
    {
      "cell_type": "markdown",
      "source": [
        "## WordNet\n"
      ],
      "metadata": {
        "id": "2vtL305inl-4"
      }
    },
    {
      "cell_type": "code",
      "source": [
        "#Wordnet download\n",
        "nltk.download('wordnet')\n",
        "nltk.download('omw-1.4')"
      ],
      "metadata": {
        "id": "A5PNrAsHnlil"
      },
      "execution_count": null,
      "outputs": []
    },
    {
      "cell_type": "code",
      "source": [
        "#check an example\n",
        "wn.synsets('great')"
      ],
      "metadata": {
        "id": "P1HBYN18zVHv"
      },
      "execution_count": null,
      "outputs": []
    },
    {
      "cell_type": "code",
      "source": [
        "wn.synset('great.n.01').definition()"
      ],
      "metadata": {
        "id": "sp5CY8mozhZu"
      },
      "execution_count": null,
      "outputs": []
    },
    {
      "cell_type": "code",
      "source": [
        "wn.synset('great.n.01').examples()"
      ],
      "metadata": {
        "id": "Jd4qRaDZzumN"
      },
      "execution_count": null,
      "outputs": []
    },
    {
      "cell_type": "code",
      "source": [
        "wn.synset('great.s.02').lemmas()"
      ],
      "metadata": {
        "id": "zUJyfqQ-z4oj"
      },
      "execution_count": null,
      "outputs": []
    },
    {
      "cell_type": "code",
      "source": [
        "[str(lemma.name()) for lemma in wn.synset('great.s.02').lemmas()]"
      ],
      "metadata": {
        "id": "-0vwVbwN0HtH"
      },
      "execution_count": null,
      "outputs": []
    },
    {
      "cell_type": "code",
      "source": [
        "great = wn.synset('great.n.01')"
      ],
      "metadata": {
        "id": "luS3bekl2s9Z"
      },
      "execution_count": null,
      "outputs": []
    },
    {
      "cell_type": "code",
      "source": [
        "great.hypernyms()"
      ],
      "metadata": {
        "id": "VFOggSGd2wvJ"
      },
      "execution_count": null,
      "outputs": []
    },
    {
      "cell_type": "code",
      "source": [
        "great.hyponyms()"
      ],
      "metadata": {
        "id": "3DKaeOoR23Gp"
      },
      "execution_count": null,
      "outputs": []
    },
    {
      "cell_type": "code",
      "source": [
        "syns = wordnet.synsets('great')\n",
        "for s in syns:\n",
        "    for l in s.lemmas():\n",
        "        print(l.name() + \" \" + str(l.count()))"
      ],
      "metadata": {
        "id": "k2CTX20EHf41"
      },
      "execution_count": null,
      "outputs": []
    }
  ],
  "metadata": {
    "colab": {
      "provenance": []
    },
    "kernelspec": {
      "display_name": "Python 3",
      "name": "python3"
    }
  },
  "nbformat": 4,
  "nbformat_minor": 0
}