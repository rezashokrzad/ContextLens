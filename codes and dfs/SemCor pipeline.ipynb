{
  "cells": [
    {
      "cell_type": "markdown",
      "source": [
        "##Import Packages"
      ],
      "metadata": {
        "id": "iCCHAs1ptdeC"
      }
    },
    {
      "cell_type": "code",
      "execution_count": null,
      "metadata": {
        "id": "EiYV5ycUX-iK"
      },
      "outputs": [],
      "source": [
        "#install related packages\n",
        "!pip install transformers\n",
        "!pip install umap-learn"
      ]
    },
    {
      "cell_type": "code",
      "execution_count": null,
      "metadata": {
        "id": "lIYdn1woOS1n",
        "colab": {
          "base_uri": "https://localhost:8080/"
        },
        "outputId": "f407ae6d-44d6-47a6-e793-9930f8ed0146"
      },
      "outputs": [
        {
          "output_type": "stream",
          "name": "stderr",
          "text": [
            "<ipython-input-2-8d4c5d83bcbc>:10: MatplotlibDeprecationWarning: The get_cmap function was deprecated in Matplotlib 3.7 and will be removed two minor releases later. Use ``matplotlib.colormaps[name]`` or ``matplotlib.colormaps.get_cmap(obj)`` instead.\n",
            "  c_map = plt.cm.get_cmap('Paired')\n"
          ]
        },
        {
          "output_type": "stream",
          "name": "stdout",
          "text": [
            "Mounted at /content/drive\n"
          ]
        }
      ],
      "source": [
        "#import initial packages\n",
        "import re\n",
        "import nltk\n",
        "\n",
        "import pandas as pd\n",
        "import numpy as np\n",
        "import matplotlib.pyplot as plt\n",
        "import matplotlib.patches as mpatches\n",
        "from matplotlib import cm\n",
        "c_map = plt.cm.get_cmap('Paired')\n",
        "import seaborn as sns\n",
        "import plotly.graph_objects as go\n",
        "import plotly.express as px\n",
        "from collections import Counter\n",
        "from wordcloud import WordCloud\n",
        "import os\n",
        "import string\n",
        "from operator import index\n",
        "import pickle\n",
        "import gdown\n",
        "\n",
        "#nltk setup\n",
        "from nltk.corpus import wordnet\n",
        "from nltk.corpus import semcor\n",
        "from nltk.tokenize import RegexpTokenizer\n",
        "from nltk.corpus import stopwords\n",
        "from nltk.stem import WordNetLemmatizer\n",
        "from collections import defaultdict\n",
        "from nltk.corpus import semcor\n",
        "from nltk.corpus import wordnet as wn \n",
        "from nltk.corpus.reader.wordnet import Lemma\n",
        "from nltk.corpus.reader.wordnet import Synset\n",
        "from re import sub\n",
        "\n",
        "#embedding packages / BERT\n",
        "import torch\n",
        "import transformers\n",
        "from transformers import BertTokenizer, BertModel\n",
        "#ElMo\n",
        "import tensorflow_hub as hub\n",
        "import tensorflow.compat.v1 as tf\n",
        "tf.disable_eager_execution()\n",
        "\n",
        "# clustring\n",
        "from sklearn.cluster import KMeans, DBSCAN\n",
        "import scipy.cluster.hierarchy as sch\n",
        "from sklearn.cluster import AgglomerativeClustering\n",
        "from sklearn.neighbors import NearestCentroid\n",
        "from sklearn.metrics import adjusted_rand_score, completeness_score, \\\n",
        "homogeneity_score, v_measure_score, accuracy_score, silhouette_score, make_scorer\n",
        "from sklearn.metrics import normalized_mutual_info_score, fowlkes_mallows_score, jaccard_score\n",
        "from sklearn.preprocessing import MinMaxScaler\n",
        "from sklearn.metrics.pairwise import cosine_similarity\n",
        "import scipy.stats\n",
        "import itertools\n",
        "from sklearn.model_selection import GridSearchCV\n",
        "\n",
        "#imablanc handling\n",
        "from imblearn.over_sampling import SMOTE\n",
        "\n",
        "#dimensionality reduction\n",
        "from sklearn.decomposition import PCA, TruncatedSVD\n",
        "from sklearn.manifold import TSNE\n",
        "from umap import UMAP\n",
        "from sklearn.discriminant_analysis import LinearDiscriminantAnalysis as LDA\n",
        "from sklearn.cluster import AgglomerativeClustering\n",
        "import scipy.cluster.hierarchy as sch # importing scipy.cluster.hierarchy for dendrogram\n",
        "\n",
        "#system setup\n",
        "from google.colab import drive\n",
        "from tqdm.notebook import tqdm\n",
        "import warnings\n",
        "warnings.filterwarnings('ignore')\n",
        "\n",
        "#access to my drive\n",
        "drive.mount('/content/drive')"
      ]
    },
    {
      "cell_type": "markdown",
      "source": [
        "### BERT setup"
      ],
      "metadata": {
        "id": "zZ7cEmcZnDdD"
      }
    },
    {
      "cell_type": "code",
      "execution_count": null,
      "metadata": {
        "id": "Es-FgX58mnW1",
        "colab": {
          "base_uri": "https://localhost:8080/",
          "referenced_widgets": [
            "6af8c502a90a4130ae700b86c7c1d9e2",
            "910b7a76f5724947b72aa7ba4547b0b7",
            "2def1d146dca42949b5ccf562cb63a49",
            "99a6f09917f941c380ac52d5ab6143e0",
            "4d5898b1eb974698815921411d8fe694",
            "74bdb5542a334e9ebbd4d7618c5064d8",
            "6fd4ca0509234006bb48d2e53df48a3b",
            "84d4c79531a14c4a9a28489cd620e65f",
            "e229111089a54daebe38a661aaaf4fec",
            "b761a2a6be284212b72789468ec4dff7",
            "2d25bc4ed2e74d5a9888f1dded6d49ac",
            "a8799149152a4bba929b6d26d523fc62",
            "f431cf64df6f4bbab6ecb7bfc0ddf512",
            "eb7bc6d5ce5b45f2b1781012adc20c1f",
            "ca74a41e05934502b4bd9a872ea6b01c",
            "719f0c0fae3a44a7bb46be79984faeda",
            "2400382210bf424b8db74caa94452f40",
            "f451f91726b545dfa58979982bfc7765",
            "5b21172b919d4eb7a5c04f40152b336a",
            "473e98ea6cd946368cc822375a6aa061",
            "d9d4ab1218f2402384f0d7d3a1040509",
            "4bfcd31a8ad24003bbeb5594db1a6e4d",
            "433522575e0c439fbcbe9cada8d21989",
            "1f098f633f25437ebea6c7f44a4e7bf9",
            "9fbc7c6212ca442c91b96a2549448e90",
            "e08bdd4efd5d4243855980577895e727",
            "a29cfad9fb7d45f997a59f6c8826680a",
            "271ffdd61b1e4ba8b89f94b9ecdbbe1e",
            "2c4c57855853465a8cc632eb95c8a858",
            "4c22aeee83464273aaa46a8af0fc8fbf",
            "d42863bab92f47d29baff67f9303c8fa",
            "d28b91e3feb84013815de1b47700c816",
            "1575dcff1779475280c9a92aef4f4741"
          ]
        },
        "outputId": "5f204a47-6c8d-441e-c059-945e93924f32"
      },
      "outputs": [
        {
          "output_type": "display_data",
          "data": {
            "text/plain": [
              "Downloading (…)solve/main/vocab.txt:   0%|          | 0.00/232k [00:00<?, ?B/s]"
            ],
            "application/vnd.jupyter.widget-view+json": {
              "version_major": 2,
              "version_minor": 0,
              "model_id": "6af8c502a90a4130ae700b86c7c1d9e2"
            }
          },
          "metadata": {}
        },
        {
          "output_type": "display_data",
          "data": {
            "text/plain": [
              "Downloading (…)okenizer_config.json:   0%|          | 0.00/28.0 [00:00<?, ?B/s]"
            ],
            "application/vnd.jupyter.widget-view+json": {
              "version_major": 2,
              "version_minor": 0,
              "model_id": "a8799149152a4bba929b6d26d523fc62"
            }
          },
          "metadata": {}
        },
        {
          "output_type": "display_data",
          "data": {
            "text/plain": [
              "Downloading (…)lve/main/config.json:   0%|          | 0.00/570 [00:00<?, ?B/s]"
            ],
            "application/vnd.jupyter.widget-view+json": {
              "version_major": 2,
              "version_minor": 0,
              "model_id": "433522575e0c439fbcbe9cada8d21989"
            }
          },
          "metadata": {}
        }
      ],
      "source": [
        "n_emb_base = 768\n",
        "tokenizer_base = BertTokenizer.from_pretrained('bert-base-uncased')"
      ]
    },
    {
      "cell_type": "code",
      "execution_count": null,
      "metadata": {
        "id": "u7gqGewGpD2p",
        "colab": {
          "base_uri": "https://localhost:8080/",
          "referenced_widgets": [
            "c4e21c30040b4bb89348383f0224ccd8",
            "dea805d38da94d0bae48bea0509b64ba",
            "0b2a937237e546dd9c10b57cc6425b8b",
            "6c1f31cfe80b47409e45c79166f05875",
            "afed32051e734c8b975add81b1dce9aa",
            "000d0c2c4250412fade4afb890943d34",
            "e9f9c5162b5a43b09e1e70736644de20",
            "9a786d2d95ad44fe9a80a7c07e3c7556",
            "570370b99ba34a1189711520f03cf1bd",
            "cd01cc1a2a4243a5b4de8eccf0999046",
            "6690e0eb9e0e4977927d85d84db5e5fe"
          ]
        },
        "outputId": "43c3e8e7-8ae5-4950-ef63-b18da4238016"
      },
      "outputs": [
        {
          "output_type": "display_data",
          "data": {
            "text/plain": [
              "Downloading pytorch_model.bin:   0%|          | 0.00/440M [00:00<?, ?B/s]"
            ],
            "application/vnd.jupyter.widget-view+json": {
              "version_major": 2,
              "version_minor": 0,
              "model_id": "c4e21c30040b4bb89348383f0224ccd8"
            }
          },
          "metadata": {}
        },
        {
          "output_type": "stream",
          "name": "stderr",
          "text": [
            "Some weights of the model checkpoint at bert-base-uncased were not used when initializing BertModel: ['cls.predictions.decoder.weight', 'cls.predictions.transform.LayerNorm.weight', 'cls.predictions.transform.LayerNorm.bias', 'cls.seq_relationship.weight', 'cls.predictions.transform.dense.weight', 'cls.predictions.bias', 'cls.predictions.transform.dense.bias', 'cls.seq_relationship.bias']\n",
            "- This IS expected if you are initializing BertModel from the checkpoint of a model trained on another task or with another architecture (e.g. initializing a BertForSequenceClassification model from a BertForPreTraining model).\n",
            "- This IS NOT expected if you are initializing BertModel from the checkpoint of a model that you expect to be exactly identical (initializing a BertForSequenceClassification model from a BertForSequenceClassification model).\n"
          ]
        }
      ],
      "source": [
        "# Load pre-trained model (weights)\n",
        "model_base = BertModel.from_pretrained('bert-base-uncased',\n",
        "                                  output_hidden_states = True, # Whether the model returns all hidden-states.\n",
        "                                  )"
      ]
    },
    {
      "cell_type": "code",
      "execution_count": null,
      "metadata": {
        "id": "hE3Pc9t-BNa_",
        "colab": {
          "base_uri": "https://localhost:8080/"
        },
        "outputId": "fccbdb00-6355-46ee-caa3-9b2295d3fafa"
      },
      "outputs": [
        {
          "output_type": "execute_result",
          "data": {
            "text/plain": [
              "BertModel(\n",
              "  (embeddings): BertEmbeddings(\n",
              "    (word_embeddings): Embedding(30522, 768, padding_idx=0)\n",
              "    (position_embeddings): Embedding(512, 768)\n",
              "    (token_type_embeddings): Embedding(2, 768)\n",
              "    (LayerNorm): LayerNorm((768,), eps=1e-12, elementwise_affine=True)\n",
              "    (dropout): Dropout(p=0.1, inplace=False)\n",
              "  )\n",
              "  (encoder): BertEncoder(\n",
              "    (layer): ModuleList(\n",
              "      (0): BertLayer(\n",
              "        (attention): BertAttention(\n",
              "          (self): BertSelfAttention(\n",
              "            (query): Linear(in_features=768, out_features=768, bias=True)\n",
              "            (key): Linear(in_features=768, out_features=768, bias=True)\n",
              "            (value): Linear(in_features=768, out_features=768, bias=True)\n",
              "            (dropout): Dropout(p=0.1, inplace=False)\n",
              "          )\n",
              "          (output): BertSelfOutput(\n",
              "            (dense): Linear(in_features=768, out_features=768, bias=True)\n",
              "            (LayerNorm): LayerNorm((768,), eps=1e-12, elementwise_affine=True)\n",
              "            (dropout): Dropout(p=0.1, inplace=False)\n",
              "          )\n",
              "        )\n",
              "        (intermediate): BertIntermediate(\n",
              "          (dense): Linear(in_features=768, out_features=3072, bias=True)\n",
              "          (intermediate_act_fn): GELUActivation()\n",
              "        )\n",
              "        (output): BertOutput(\n",
              "          (dense): Linear(in_features=3072, out_features=768, bias=True)\n",
              "          (LayerNorm): LayerNorm((768,), eps=1e-12, elementwise_affine=True)\n",
              "          (dropout): Dropout(p=0.1, inplace=False)\n",
              "        )\n",
              "      )\n",
              "      (1): BertLayer(\n",
              "        (attention): BertAttention(\n",
              "          (self): BertSelfAttention(\n",
              "            (query): Linear(in_features=768, out_features=768, bias=True)\n",
              "            (key): Linear(in_features=768, out_features=768, bias=True)\n",
              "            (value): Linear(in_features=768, out_features=768, bias=True)\n",
              "            (dropout): Dropout(p=0.1, inplace=False)\n",
              "          )\n",
              "          (output): BertSelfOutput(\n",
              "            (dense): Linear(in_features=768, out_features=768, bias=True)\n",
              "            (LayerNorm): LayerNorm((768,), eps=1e-12, elementwise_affine=True)\n",
              "            (dropout): Dropout(p=0.1, inplace=False)\n",
              "          )\n",
              "        )\n",
              "        (intermediate): BertIntermediate(\n",
              "          (dense): Linear(in_features=768, out_features=3072, bias=True)\n",
              "          (intermediate_act_fn): GELUActivation()\n",
              "        )\n",
              "        (output): BertOutput(\n",
              "          (dense): Linear(in_features=3072, out_features=768, bias=True)\n",
              "          (LayerNorm): LayerNorm((768,), eps=1e-12, elementwise_affine=True)\n",
              "          (dropout): Dropout(p=0.1, inplace=False)\n",
              "        )\n",
              "      )\n",
              "      (2): BertLayer(\n",
              "        (attention): BertAttention(\n",
              "          (self): BertSelfAttention(\n",
              "            (query): Linear(in_features=768, out_features=768, bias=True)\n",
              "            (key): Linear(in_features=768, out_features=768, bias=True)\n",
              "            (value): Linear(in_features=768, out_features=768, bias=True)\n",
              "            (dropout): Dropout(p=0.1, inplace=False)\n",
              "          )\n",
              "          (output): BertSelfOutput(\n",
              "            (dense): Linear(in_features=768, out_features=768, bias=True)\n",
              "            (LayerNorm): LayerNorm((768,), eps=1e-12, elementwise_affine=True)\n",
              "            (dropout): Dropout(p=0.1, inplace=False)\n",
              "          )\n",
              "        )\n",
              "        (intermediate): BertIntermediate(\n",
              "          (dense): Linear(in_features=768, out_features=3072, bias=True)\n",
              "          (intermediate_act_fn): GELUActivation()\n",
              "        )\n",
              "        (output): BertOutput(\n",
              "          (dense): Linear(in_features=3072, out_features=768, bias=True)\n",
              "          (LayerNorm): LayerNorm((768,), eps=1e-12, elementwise_affine=True)\n",
              "          (dropout): Dropout(p=0.1, inplace=False)\n",
              "        )\n",
              "      )\n",
              "      (3): BertLayer(\n",
              "        (attention): BertAttention(\n",
              "          (self): BertSelfAttention(\n",
              "            (query): Linear(in_features=768, out_features=768, bias=True)\n",
              "            (key): Linear(in_features=768, out_features=768, bias=True)\n",
              "            (value): Linear(in_features=768, out_features=768, bias=True)\n",
              "            (dropout): Dropout(p=0.1, inplace=False)\n",
              "          )\n",
              "          (output): BertSelfOutput(\n",
              "            (dense): Linear(in_features=768, out_features=768, bias=True)\n",
              "            (LayerNorm): LayerNorm((768,), eps=1e-12, elementwise_affine=True)\n",
              "            (dropout): Dropout(p=0.1, inplace=False)\n",
              "          )\n",
              "        )\n",
              "        (intermediate): BertIntermediate(\n",
              "          (dense): Linear(in_features=768, out_features=3072, bias=True)\n",
              "          (intermediate_act_fn): GELUActivation()\n",
              "        )\n",
              "        (output): BertOutput(\n",
              "          (dense): Linear(in_features=3072, out_features=768, bias=True)\n",
              "          (LayerNorm): LayerNorm((768,), eps=1e-12, elementwise_affine=True)\n",
              "          (dropout): Dropout(p=0.1, inplace=False)\n",
              "        )\n",
              "      )\n",
              "      (4): BertLayer(\n",
              "        (attention): BertAttention(\n",
              "          (self): BertSelfAttention(\n",
              "            (query): Linear(in_features=768, out_features=768, bias=True)\n",
              "            (key): Linear(in_features=768, out_features=768, bias=True)\n",
              "            (value): Linear(in_features=768, out_features=768, bias=True)\n",
              "            (dropout): Dropout(p=0.1, inplace=False)\n",
              "          )\n",
              "          (output): BertSelfOutput(\n",
              "            (dense): Linear(in_features=768, out_features=768, bias=True)\n",
              "            (LayerNorm): LayerNorm((768,), eps=1e-12, elementwise_affine=True)\n",
              "            (dropout): Dropout(p=0.1, inplace=False)\n",
              "          )\n",
              "        )\n",
              "        (intermediate): BertIntermediate(\n",
              "          (dense): Linear(in_features=768, out_features=3072, bias=True)\n",
              "          (intermediate_act_fn): GELUActivation()\n",
              "        )\n",
              "        (output): BertOutput(\n",
              "          (dense): Linear(in_features=3072, out_features=768, bias=True)\n",
              "          (LayerNorm): LayerNorm((768,), eps=1e-12, elementwise_affine=True)\n",
              "          (dropout): Dropout(p=0.1, inplace=False)\n",
              "        )\n",
              "      )\n",
              "      (5): BertLayer(\n",
              "        (attention): BertAttention(\n",
              "          (self): BertSelfAttention(\n",
              "            (query): Linear(in_features=768, out_features=768, bias=True)\n",
              "            (key): Linear(in_features=768, out_features=768, bias=True)\n",
              "            (value): Linear(in_features=768, out_features=768, bias=True)\n",
              "            (dropout): Dropout(p=0.1, inplace=False)\n",
              "          )\n",
              "          (output): BertSelfOutput(\n",
              "            (dense): Linear(in_features=768, out_features=768, bias=True)\n",
              "            (LayerNorm): LayerNorm((768,), eps=1e-12, elementwise_affine=True)\n",
              "            (dropout): Dropout(p=0.1, inplace=False)\n",
              "          )\n",
              "        )\n",
              "        (intermediate): BertIntermediate(\n",
              "          (dense): Linear(in_features=768, out_features=3072, bias=True)\n",
              "          (intermediate_act_fn): GELUActivation()\n",
              "        )\n",
              "        (output): BertOutput(\n",
              "          (dense): Linear(in_features=3072, out_features=768, bias=True)\n",
              "          (LayerNorm): LayerNorm((768,), eps=1e-12, elementwise_affine=True)\n",
              "          (dropout): Dropout(p=0.1, inplace=False)\n",
              "        )\n",
              "      )\n",
              "      (6): BertLayer(\n",
              "        (attention): BertAttention(\n",
              "          (self): BertSelfAttention(\n",
              "            (query): Linear(in_features=768, out_features=768, bias=True)\n",
              "            (key): Linear(in_features=768, out_features=768, bias=True)\n",
              "            (value): Linear(in_features=768, out_features=768, bias=True)\n",
              "            (dropout): Dropout(p=0.1, inplace=False)\n",
              "          )\n",
              "          (output): BertSelfOutput(\n",
              "            (dense): Linear(in_features=768, out_features=768, bias=True)\n",
              "            (LayerNorm): LayerNorm((768,), eps=1e-12, elementwise_affine=True)\n",
              "            (dropout): Dropout(p=0.1, inplace=False)\n",
              "          )\n",
              "        )\n",
              "        (intermediate): BertIntermediate(\n",
              "          (dense): Linear(in_features=768, out_features=3072, bias=True)\n",
              "          (intermediate_act_fn): GELUActivation()\n",
              "        )\n",
              "        (output): BertOutput(\n",
              "          (dense): Linear(in_features=3072, out_features=768, bias=True)\n",
              "          (LayerNorm): LayerNorm((768,), eps=1e-12, elementwise_affine=True)\n",
              "          (dropout): Dropout(p=0.1, inplace=False)\n",
              "        )\n",
              "      )\n",
              "      (7): BertLayer(\n",
              "        (attention): BertAttention(\n",
              "          (self): BertSelfAttention(\n",
              "            (query): Linear(in_features=768, out_features=768, bias=True)\n",
              "            (key): Linear(in_features=768, out_features=768, bias=True)\n",
              "            (value): Linear(in_features=768, out_features=768, bias=True)\n",
              "            (dropout): Dropout(p=0.1, inplace=False)\n",
              "          )\n",
              "          (output): BertSelfOutput(\n",
              "            (dense): Linear(in_features=768, out_features=768, bias=True)\n",
              "            (LayerNorm): LayerNorm((768,), eps=1e-12, elementwise_affine=True)\n",
              "            (dropout): Dropout(p=0.1, inplace=False)\n",
              "          )\n",
              "        )\n",
              "        (intermediate): BertIntermediate(\n",
              "          (dense): Linear(in_features=768, out_features=3072, bias=True)\n",
              "          (intermediate_act_fn): GELUActivation()\n",
              "        )\n",
              "        (output): BertOutput(\n",
              "          (dense): Linear(in_features=3072, out_features=768, bias=True)\n",
              "          (LayerNorm): LayerNorm((768,), eps=1e-12, elementwise_affine=True)\n",
              "          (dropout): Dropout(p=0.1, inplace=False)\n",
              "        )\n",
              "      )\n",
              "      (8): BertLayer(\n",
              "        (attention): BertAttention(\n",
              "          (self): BertSelfAttention(\n",
              "            (query): Linear(in_features=768, out_features=768, bias=True)\n",
              "            (key): Linear(in_features=768, out_features=768, bias=True)\n",
              "            (value): Linear(in_features=768, out_features=768, bias=True)\n",
              "            (dropout): Dropout(p=0.1, inplace=False)\n",
              "          )\n",
              "          (output): BertSelfOutput(\n",
              "            (dense): Linear(in_features=768, out_features=768, bias=True)\n",
              "            (LayerNorm): LayerNorm((768,), eps=1e-12, elementwise_affine=True)\n",
              "            (dropout): Dropout(p=0.1, inplace=False)\n",
              "          )\n",
              "        )\n",
              "        (intermediate): BertIntermediate(\n",
              "          (dense): Linear(in_features=768, out_features=3072, bias=True)\n",
              "          (intermediate_act_fn): GELUActivation()\n",
              "        )\n",
              "        (output): BertOutput(\n",
              "          (dense): Linear(in_features=3072, out_features=768, bias=True)\n",
              "          (LayerNorm): LayerNorm((768,), eps=1e-12, elementwise_affine=True)\n",
              "          (dropout): Dropout(p=0.1, inplace=False)\n",
              "        )\n",
              "      )\n",
              "      (9): BertLayer(\n",
              "        (attention): BertAttention(\n",
              "          (self): BertSelfAttention(\n",
              "            (query): Linear(in_features=768, out_features=768, bias=True)\n",
              "            (key): Linear(in_features=768, out_features=768, bias=True)\n",
              "            (value): Linear(in_features=768, out_features=768, bias=True)\n",
              "            (dropout): Dropout(p=0.1, inplace=False)\n",
              "          )\n",
              "          (output): BertSelfOutput(\n",
              "            (dense): Linear(in_features=768, out_features=768, bias=True)\n",
              "            (LayerNorm): LayerNorm((768,), eps=1e-12, elementwise_affine=True)\n",
              "            (dropout): Dropout(p=0.1, inplace=False)\n",
              "          )\n",
              "        )\n",
              "        (intermediate): BertIntermediate(\n",
              "          (dense): Linear(in_features=768, out_features=3072, bias=True)\n",
              "          (intermediate_act_fn): GELUActivation()\n",
              "        )\n",
              "        (output): BertOutput(\n",
              "          (dense): Linear(in_features=3072, out_features=768, bias=True)\n",
              "          (LayerNorm): LayerNorm((768,), eps=1e-12, elementwise_affine=True)\n",
              "          (dropout): Dropout(p=0.1, inplace=False)\n",
              "        )\n",
              "      )\n",
              "      (10): BertLayer(\n",
              "        (attention): BertAttention(\n",
              "          (self): BertSelfAttention(\n",
              "            (query): Linear(in_features=768, out_features=768, bias=True)\n",
              "            (key): Linear(in_features=768, out_features=768, bias=True)\n",
              "            (value): Linear(in_features=768, out_features=768, bias=True)\n",
              "            (dropout): Dropout(p=0.1, inplace=False)\n",
              "          )\n",
              "          (output): BertSelfOutput(\n",
              "            (dense): Linear(in_features=768, out_features=768, bias=True)\n",
              "            (LayerNorm): LayerNorm((768,), eps=1e-12, elementwise_affine=True)\n",
              "            (dropout): Dropout(p=0.1, inplace=False)\n",
              "          )\n",
              "        )\n",
              "        (intermediate): BertIntermediate(\n",
              "          (dense): Linear(in_features=768, out_features=3072, bias=True)\n",
              "          (intermediate_act_fn): GELUActivation()\n",
              "        )\n",
              "        (output): BertOutput(\n",
              "          (dense): Linear(in_features=3072, out_features=768, bias=True)\n",
              "          (LayerNorm): LayerNorm((768,), eps=1e-12, elementwise_affine=True)\n",
              "          (dropout): Dropout(p=0.1, inplace=False)\n",
              "        )\n",
              "      )\n",
              "      (11): BertLayer(\n",
              "        (attention): BertAttention(\n",
              "          (self): BertSelfAttention(\n",
              "            (query): Linear(in_features=768, out_features=768, bias=True)\n",
              "            (key): Linear(in_features=768, out_features=768, bias=True)\n",
              "            (value): Linear(in_features=768, out_features=768, bias=True)\n",
              "            (dropout): Dropout(p=0.1, inplace=False)\n",
              "          )\n",
              "          (output): BertSelfOutput(\n",
              "            (dense): Linear(in_features=768, out_features=768, bias=True)\n",
              "            (LayerNorm): LayerNorm((768,), eps=1e-12, elementwise_affine=True)\n",
              "            (dropout): Dropout(p=0.1, inplace=False)\n",
              "          )\n",
              "        )\n",
              "        (intermediate): BertIntermediate(\n",
              "          (dense): Linear(in_features=768, out_features=3072, bias=True)\n",
              "          (intermediate_act_fn): GELUActivation()\n",
              "        )\n",
              "        (output): BertOutput(\n",
              "          (dense): Linear(in_features=3072, out_features=768, bias=True)\n",
              "          (LayerNorm): LayerNorm((768,), eps=1e-12, elementwise_affine=True)\n",
              "          (dropout): Dropout(p=0.1, inplace=False)\n",
              "        )\n",
              "      )\n",
              "    )\n",
              "  )\n",
              "  (pooler): BertPooler(\n",
              "    (dense): Linear(in_features=768, out_features=768, bias=True)\n",
              "    (activation): Tanh()\n",
              "  )\n",
              ")"
            ]
          },
          "metadata": {},
          "execution_count": 5
        }
      ],
      "source": [
        "# Put the model in \"evaluation\" mode, meaning feed-forward operation.\n",
        "model_base.eval()"
      ]
    },
    {
      "cell_type": "code",
      "execution_count": null,
      "metadata": {
        "id": "UzbzM_aoozXS"
      },
      "outputs": [],
      "source": [
        "def getEmbedingBERT(text , desired_word_em, model, tokenizer):\n",
        "  # Run the text through BERT, and collect all of the hidden states produced\n",
        "  # from all 12 layers. \n",
        "  \n",
        "  # Convert inputs to PyTorch tensors\n",
        "  # Mark each of the 22 tokens as belonging to sentence \"1\".\n",
        "  marked_text = \"[CLS] \" + text + \" [SEP]\"\n",
        "\n",
        "  # Split the sentence into tokens.\n",
        "  tokenized_text = tokenizer.tokenize(marked_text)\n",
        "\n",
        "  # Map the token strings to their vocabulary indeces.\n",
        "  indexed_tokens = tokenizer.convert_tokens_to_ids(tokenized_text)\n",
        "\n",
        "  try:\n",
        "    idx = np.where(np.array(tokenized_text) == desired_word_em)[0][0]\n",
        "  except:\n",
        "    print('except !!!!!!!!!!!!!!!!!!!', text)\n",
        "    pass\n",
        "\n",
        "  segments_ids = [1] * len(tokenized_text)\n",
        "  tokens_tensor = torch.tensor([indexed_tokens])\n",
        "  segments_tensors = torch.tensor([segments_ids])\n",
        "  \n",
        "  tokenized_text = tokenizer.tokenize(marked_text)\n",
        "  with torch.no_grad():\n",
        "    outputs = model(tokens_tensor, segments_tensors)\n",
        "\n",
        "    # Evaluating the model will return a different number of objects based on \n",
        "    # how it's  configured in the `from_pretrained` call earlier. In this case, \n",
        "    # becase we set `output_hidden_states = True`, the third item will be the \n",
        "    # hidden states from all layers. See the documentation for more details:\n",
        "    # https://huggingface.co/transformers/model_doc/bert.html#bertmodel\n",
        "    hidden_states = outputs[2]\n",
        "    token_embeddings = torch.stack(hidden_states, dim=0)\n",
        "    token_embeddings = torch.squeeze(token_embeddings, dim=1)\n",
        "    token_embeddings = token_embeddings[8, idx, :]\n",
        "    # bert_semcor_index.append(idx)\n",
        "  return token_embeddings"
      ]
    },
    {
      "cell_type": "code",
      "execution_count": null,
      "metadata": {
        "id": "TH1jqdZrdtuF"
      },
      "outputs": [],
      "source": [
        "# #to see if punctuations can influence embedding as hotel reviews doesn't have punc\n",
        "# def remove_puncs(text):\n",
        "#   text = text.translate(str.maketrans('', '', string.punctuation))\n",
        "#   text = text.replace('  ',' ')\n",
        "#   return text"
      ]
    },
    {
      "cell_type": "markdown",
      "source": [
        "##myword"
      ],
      "metadata": {
        "id": "sAWbMS2zhFhD"
      }
    },
    {
      "cell_type": "code",
      "source": [
        "myword = 'state' #challenge for the begging and end of a sentence. Think later/"
      ],
      "metadata": {
        "id": "ntoaTTmChCl7"
      },
      "execution_count": null,
      "outputs": []
    },
    {
      "cell_type": "markdown",
      "metadata": {
        "id": "bzwc1I_12GNc"
      },
      "source": [
        "## SemCor Corpus\n",
        "\n"
      ]
    },
    {
      "cell_type": "code",
      "execution_count": null,
      "metadata": {
        "id": "4N_7Bvq23k7t"
      },
      "outputs": [],
      "source": [
        "nltk.download('semcor')\n",
        "semcor_words = semcor.words()\n",
        "# len(semcor_words) #820411\n",
        "semcor_chunks = semcor.chunks()\n",
        "# len(semcor_chunks) #778587\n",
        "semcor_sents = semcor.sents()\n",
        "# len(semcor_sent) #37176"
      ]
    },
    {
      "cell_type": "markdown",
      "metadata": {
        "id": "3IGcwKb6VxoN"
      },
      "source": [
        "tag – ‘pos’ (part of speech), ‘sem’ (semantic), or ‘both’ to indicate the kind of tags to include. Semantic tags consist of WordNet lemma IDs, plus an ‘NE’ node if the chunk is a named entity without a specific entry in WordNet. (Named entities of type ‘other’ have no lemma. Other chunks not in WordNet have no semantic tag. Punctuation tokens have None for their part of speech tag.)\n",
        "\n",
        "an example for 'both':\n",
        "Tree('however.r.01', [Tree('RB', ['However'])]\n",
        "\n",
        "for 'sem': Tree('however.r.01', ['However'])\n",
        "\n",
        "for 'pos': Tree('RB', ['However'])"
      ]
    },
    {
      "cell_type": "code",
      "execution_count": null,
      "metadata": {
        "colab": {
          "base_uri": "https://localhost:8080/"
        },
        "id": "Hj-A8_itU2A1",
        "outputId": "8dfe07cc-fa33-45a3-f01c-93994e294a61"
      },
      "outputs": [
        {
          "output_type": "stream",
          "name": "stdout",
          "text": [
            "#SemCor sentences contain word state :  567\n",
            "['The', 'grand', 'jury', 'took', 'a', 'swipe', 'at', 'the', 'State', 'Welfare', 'Department', \"'s\", 'handling', 'of', 'federal', 'funds', 'granted', 'for', 'child', 'welfare', 'services', 'in', 'foster', 'homes', '.']\n"
          ]
        }
      ],
      "source": [
        "len_semcor_sentences = 37176 #len(semcor.sents())\n",
        "#extracting sentences including my_word\n",
        "if not os.path.exists('/content/drive/MyDrive/Thesis/SemCor_'+myword+'_df'):\n",
        "  #access to google drive\n",
        "\n",
        "  url_myword_df = '/content/drive/MyDrive/Thesis/' + 'SemCor_' + str(myword) + '_df'\n",
        "  myword_sent = [] \n",
        "  myword_index = []\n",
        "  [(myword_sent.append((s)), myword_index.append(i)) \n",
        "  for s, i in tqdm(zip(semcor.tagged_sents(tag='both')[:len_semcor_sentences],\n",
        "                       range(len_semcor_sentences))) if '\\''+myword+'\\'' in str(s).lower()]\n",
        "  \n",
        "  #build a dictionary of myword senatnces and indecies\n",
        "  myword_semcor_dict = {'semcor_idx_'+str(myword): myword_index,\n",
        "                        'semcor_sent_'+str(myword): myword_sent}\n",
        "  #construct dataframe of myword sents and idx\n",
        "  myword_semcor_df = pd.DataFrame(myword_semcor_dict)\n",
        "  #save the df\n",
        "  open_file = open(url_myword_df, \"wb\")\n",
        "  pickle.dump(myword_semcor_df, open_file)\n",
        "  open_file.close()\n",
        "else:\n",
        "  # open files of myword\n",
        "  open_file = open('/content/drive/MyDrive/Thesis/SemCor_'+myword+'_df', \"rb\")\n",
        "  myword_semcor_df = pickle.load(open_file)\n",
        "  open_file.close()\n",
        "myword_index = myword_semcor_df['semcor_idx_'+str(myword)].values\n",
        "myword_sent = myword_semcor_df['semcor_sent_'+str(myword)].values\n",
        "\n",
        "# myword_semcor_df['myword_wsns'] = None \n",
        "# myword_semcor_df['myword_POS'] = None\n",
        "\n",
        "print('#SemCor sentences contain word', myword, ': ', len(myword_sent))\n",
        "print(semcor_sents[myword_index[0]])"
      ]
    },
    {
      "cell_type": "code",
      "source": [
        "semcor.tagged_chunks(tag=(\"both\"))\n",
        "print(semcor_sents[30285])"
      ],
      "metadata": {
        "id": "yrUrpb_hRSpU"
      },
      "execution_count": null,
      "outputs": []
    },
    {
      "cell_type": "code",
      "execution_count": null,
      "metadata": {
        "colab": {
          "base_uri": "https://localhost:8080/",
          "height": 35
        },
        "id": "OE3Z_HKaD_1h",
        "outputId": "5292bbe0-d21e-466a-a57d-eaed6f545d21"
      },
      "outputs": [
        {
          "output_type": "execute_result",
          "data": {
            "text/plain": [
              "'v.01'"
            ],
            "application/vnd.google.colaboratory.intrinsic+json": {
              "type": "string"
            }
          },
          "metadata": {},
          "execution_count": 109
        }
      ],
      "source": [
        "#finding the sense and POS tag (label) of myword in the sentences\n",
        "myword_semcor_POS = []\n",
        "myword_semcor_wsns = []\n",
        "outdate_indices = []\n",
        "POS_wsns_idx = []\n",
        "\n",
        "for i in range(len(myword_sent)):\n",
        "  if len(re.findall(myword, str(myword_sent[i]).lower().replace(\"'\",\"\"))) == 2:\n",
        "    #fiding the start index\n",
        "    idx_start = str(myword_sent[i]).lower().replace(\"'\",\"\").find(myword)\n",
        "    #finding sense of a WORD (WSNS)\n",
        "    idx_dot = str(myword_sent[i]).replace(\"'\",\"\").find('.', idx_start)\n",
        "    idx_comma = str(myword_sent[i]).replace(\"'\",\"\").find(',', idx_dot)\n",
        "    myword_semcor_wsns.append(str(myword_sent[i]).replace(\"'\",\"\")[idx_dot+1: idx_comma])\n",
        "    #go back enough to find the second myword\n",
        "    idx_start = str(myword_sent[i]).lower().replace(\"'\",\"\").find(myword, idx_comma) - 9\n",
        "    #go forward to find the part of speech start index\n",
        "    idx1 = str(myword_sent[i]).replace(\"'\",\"\").find('(',idx_start)\n",
        "    #part of speech end index\n",
        "    idx2 = str(myword_sent[i]).replace(\"'\",\"\").find(',',idx1)\n",
        "    #generate the label list\n",
        "    myword_semcor_POS.append(str(myword_sent[i]).replace(\"'\",\"\")[idx1+1: idx2])\n",
        "\n",
        "  elif len(re.findall(myword, str(myword_sent[i]).lower().replace(\"'\",\"\"))) == 1:\n",
        "    myword_semcor_wsns.append('')\n",
        "    idx_start = str(myword_sent[i]).lower().replace(\"'\",\"\").find(myword) - 9\n",
        "    idx1 = str(myword_sent[i]).replace(\"'\",\"\").find('(',idx_start) + 1\n",
        "    idx2 = str(myword_sent[i]).replace(\"'\",\"\").find(',',idx1)\n",
        "    myword_semcor_POS.append(str(myword_sent[i]).replace(\"'\",\"\")[idx1: idx2])\n",
        "  \n",
        "  else:\n",
        "    myword_semcor_wsns.append('')\n",
        "    myword_semcor_POS.append('')\n",
        "  #create a list of indices with unfamilar tags\n",
        "  if len(myword_semcor_POS[-1]) > 3 or (')' in myword_semcor_wsns[-1]) \\\n",
        "  or (';' in myword_semcor_wsns[-1]) or len(myword_semcor_wsns[-1]) == 0:\n",
        "  # or ('v' in myword_semcor_wsns[-1]) or ('n' in myword_semcor_wsns[-1])\\\n",
        "  # or ('r' in myword_semcor_wsns[-1]) or ('N' in myword_semcor_POS[-1])\n",
        "  \n",
        "    outdate_indices.append(i)\n",
        "    myword_semcor_POS.pop()\n",
        "    myword_semcor_wsns.pop()\n",
        "print(len(outdate_indices))"
      ]
    },
    {
      "cell_type": "code",
      "execution_count": null,
      "metadata": {
        "id": "QrE050M4UL27"
      },
      "outputs": [],
      "source": [
        "myword_semcor_label = set(myword_semcor_wsns)\n",
        "print(set(myword_semcor_wsns))\n",
        "print(len(set(myword_semcor_wsns)))\n",
        "print(set(myword_semcor_POS))\n",
        "print(len(set(myword_semcor_POS)))"
      ]
    },
    {
      "cell_type": "code",
      "source": [
        "plt.figure(figsize=(6,4), dpi=100)\n",
        "labels, counts = np.unique(myword_semcor_wsns, return_counts=True)\n",
        "myword_hist = plt.bar(labels, counts, align='center', color='C0')\n",
        "n_neighbour_smote = np.min(counts).astype(int) - 1\n",
        "for i in range(len(counts)):\n",
        "  plt.text(labels[i], counts[i]+0.5, counts[i])\n",
        "# plt.title(myword+\" sense distribution\")\n",
        "plt.xlabel('SemCor Sense Tag') \n",
        "plt.ylabel('Frequency')\n",
        "plt.title('sense ditribution \"'+ myword + '\" | total freq:' + str(sum(counts)))\n",
        "plt.show()"
      ],
      "metadata": {
        "colab": {
          "base_uri": "https://localhost:8080/",
          "height": 404
        },
        "id": "UUIQDhO-zBV4",
        "outputId": "4748a03a-cac4-40fe-958e-995ac99e7e16"
      },
      "execution_count": null,
      "outputs": [
        {
          "output_type": "display_data",
          "data": {
            "text/plain": [
              "<Figure size 600x400 with 1 Axes>"
            ],
            "image/png": "[encoded data removed]"
          },
          "metadata": {
            "needs_background": "light"
          }
        }
      ]
    },
    {
      "cell_type": "code",
      "execution_count": null,
      "metadata": {
        "id": "CQNRMxpmirKo"
      },
      "outputs": [],
      "source": [
        "#update myword index and sentence\n",
        "myword_index_new = []\n",
        "myword_sent_new = []\n",
        "for i in range(len(myword_index)):\n",
        "  if i in outdate_indices:\n",
        "    pass\n",
        "  else:\n",
        "    myword_index_new.append(myword_index[i])\n",
        "    myword_sent_new.append(myword_sent[i])\n",
        "\n",
        "myword_semcor_def = []\n",
        "for i in range(len(myword_semcor_wsns)):\n",
        "  myword_semcor_def.append(str(myword_semcor_wsns[i]))\n",
        "len(myword_index_new)"
      ]
    },
    {
      "cell_type": "code",
      "execution_count": null,
      "metadata": {
        "id": "ZrDuq6XJPBEP",
        "colab": {
          "base_uri": "https://localhost:8080/"
        },
        "outputId": "580e3bb8-003e-4b25-b3d6-594c918b3047"
      },
      "outputs": [
        {
          "output_type": "stream",
          "name": "stdout",
          "text": [
            "state\n"
          ]
        }
      ],
      "source": [
        "myword_sentence_new = []\n",
        "for i in myword_index_new:\n",
        "  myword_sentence_new.append(' '.join(semcor_sents[i]))\n",
        "\n",
        "#save a file include myword details\n",
        "myword_semcor_detail_dict = {'semcor_idx_'+str(myword): myword_index_new,\n",
        "                             'semcor_sense_'+str(myword): myword_semcor_def,\n",
        "                             'semcor_sent_'+str(myword): myword_sentence_new}\n",
        "myword_semcor_detail_df = pd.DataFrame(myword_semcor_detail_dict)\n",
        "# myword_semcor_detail_df.to_excel('SemCor_' + str(myword) + '_detail.xlsx')\n",
        "\n",
        "\n",
        "#finding the index of my_word in each sentence to have (greater, greatest, ...)\n",
        "list_of_myword = []\n",
        "for i in myword_index_new:\n",
        "  idx = ' '.join(semcor_sents[i]).find(myword)\n",
        "  idx_end = ' '.join(semcor_sents[i]).find(' ', idx)\n",
        "  if idx_end == -1:\n",
        "    continue\n",
        "  list_of_myword.append(' '.join(semcor_sents[i])[idx:idx_end])\n",
        "\n",
        "list_of_myword = set(list_of_myword)\n",
        "\n",
        "list_of_myword = myword # for test\n",
        "print(list_of_myword)"
      ]
    },
    {
      "cell_type": "markdown",
      "metadata": {
        "id": "mLGphUnk1bAn"
      },
      "source": [
        "## BERT Embedding extraction"
      ]
    },
    {
      "cell_type": "code",
      "execution_count": null,
      "metadata": {
        "colab": {
          "base_uri": "https://localhost:8080/",
          "height": 49,
          "referenced_widgets": [
            "61773dd52b4f49de9c284720c52b15d8",
            "e91558b764be41f48b03295e44c2023c",
            "40417e61562c4f419a8d0167476236c7",
            "f31cc2c1f3b6476f87a9b3e2400f5fe8",
            "46103b4e5b0144fe8793784e0f6ad3bf",
            "aead24cf1a704804a7edec9a380d18cc",
            "9db70d89f7c84875ac0bd7e0ea7f91a1",
            "b3068b3e40b34ee3b8786961afcd1fa9",
            "7917437541cd405a9e3e901b2deb4777",
            "ebb6bea0c049411c89bc8913fbc3b5f2",
            "32b2111db4c14323a3f62e085acac511"
          ]
        },
        "id": "y1tPAPyDozcx",
        "outputId": "a9b8de64-4fec-4c48-dfce-8cdd97fa3448"
      },
      "outputs": [
        {
          "output_type": "display_data",
          "data": {
            "text/plain": [
              "  0%|          | 0/171 [00:00<?, ?it/s]"
            ],
            "application/vnd.jupyter.widget-view+json": {
              "version_major": 2,
              "version_minor": 0,
              "model_id": "61773dd52b4f49de9c284720c52b15d8"
            }
          },
          "metadata": {}
        }
      ],
      "source": [
        "#Semcor BERT embedding\n",
        "semcor_BERT_base_embs = np.zeros((len(myword_index_new) , n_emb_base))\n",
        "#extract bert_base embedding\n",
        "for i in tqdm(range(len(myword_index_new))):\n",
        "  text = ' '.join(semcor_sents[myword_index_new[i]])\n",
        "  # text = remove_puncs(text)\n",
        "  # text = text.lower()\n",
        "  try:\n",
        "    em = getEmbedingBERT(text, myword, model_base, tokenizer_base)\n",
        "    semcor_BERT_base_embs[i] = em\n",
        "  except:\n",
        "    print('except ************')\n",
        "    pass\n",
        "\n",
        "\n",
        "idx_hold_base = np.where(np.sum(semcor_BERT_base_embs, axis=1)!=0)[0]\n",
        "semcor_BERT_base_embs = semcor_BERT_base_embs[idx_hold_base]\n",
        "myword_semcor_base_labels = np.array(myword_semcor_def)[idx_hold_base.astype(int)]"
      ]
    },
    {
      "cell_type": "code",
      "execution_count": null,
      "metadata": {
        "colab": {
          "base_uri": "https://localhost:8080/"
        },
        "id": "HmFHIc8y1hNO",
        "outputId": "ac6818dc-3700-4c96-f114-3a9776afa629"
      },
      "outputs": [
        {
          "output_type": "stream",
          "name": "stdout",
          "text": [
            "171\n"
          ]
        }
      ],
      "source": [
        "print(len(myword_semcor_base_labels))"
      ]
    },
    {
      "cell_type": "code",
      "execution_count": null,
      "metadata": {
        "id": "OmpJrUTOmnBj"
      },
      "outputs": [],
      "source": [
        "#convert categorical (sense label) to numerical\n",
        "set_labels, numerical_sense_labels = np.unique(myword_semcor_base_labels, return_inverse=True)"
      ]
    },
    {
      "cell_type": "markdown",
      "metadata": {
        "id": "gj09AlpX8-W3"
      },
      "source": [
        "## Cluster reviews"
      ]
    },
    {
      "cell_type": "markdown",
      "source": [
        "### Dendrogram\n"
      ],
      "metadata": {
        "id": "FJ3qRrKAhUkZ"
      }
    },
    {
      "cell_type": "code",
      "source": [
        "#make the sentences includes desire_word shorter\n",
        "short_sent = []\n",
        "cnt = 0\n",
        "\n",
        "for text in list(myword_semcor_detail_df[:25]['semcor_sent_'+myword]):\n",
        "  start = text.find(myword)\n",
        "  if start != -1:\n",
        "    text = text[:start]+' \"'+text[start:start+len(myword)]+'\" '+text[start+len(myword)+6:]\n",
        "    start = max(0, start-60)\n",
        "    end = min(len(text), start+len(myword)+60+60)\n",
        "    short_sent.append(text[start:end]+\": '\" + myword_semcor_detail_df[cnt:cnt+1]['semcor_sense_'+myword][cnt]+\"'\")\n",
        "    cnt += 1"
      ],
      "metadata": {
        "id": "65-dgpn0gl37"
      },
      "execution_count": null,
      "outputs": []
    },
    {
      "cell_type": "code",
      "source": [
        "# plt.figure(figsize=(7,5), dpi=250)\n",
        "# dendrogram = sch.dendrogram(sch.linkage(semcor_BERT_base_embs[:25],\n",
        "#                                         method='ward'), labels=short_sent,\n",
        "#                             leaf_rotation=0.,\n",
        "#                             leaf_font_size=10,\n",
        "#                             orientation='right') # finding the optimal number of clusters using dendrogram\n",
        "\n",
        "# plt.title('Dendrogram of \"'+myword+'\"') # title of the dendrogram\n",
        "# plt.xlabel('Euclidean distances') # label of the x-axis\n",
        "# plt.ylabel('Tokens') # label of the y-axis\n",
        "# plt.show() # show the dendrogram"
      ],
      "metadata": {
        "id": "qKYOGKPrhW5S"
      },
      "execution_count": null,
      "outputs": []
    },
    {
      "cell_type": "markdown",
      "metadata": {
        "id": "xGoXlKMIF_kJ"
      },
      "source": [
        "## imbalnace handling"
      ]
    },
    {
      "cell_type": "code",
      "execution_count": null,
      "metadata": {
        "id": "wMmuiaKUF2Yz"
      },
      "outputs": [],
      "source": [
        "# smt = SMOTE(k_neighbors=n_neighbour_smote)\n",
        "# semcor_BERT_base_embs_bal, numerical_sense_labels_bal = \\\n",
        "#  smt.fit_resample(semcor_BERT_base_embs, numerical_sense_labels)\n",
        "\n",
        "# semcor_GPT_embs_bal, numerical_sense_labels_gpt_bal = \\\n",
        "#  smt.fit_resample(semcor_GPT_embs, numerical_sense_labels)\n",
        "\n",
        "# plt.figure(figsize=(6,4), dpi=200)\n",
        "# labels, counts = np.unique(numerical_sense_labels_bal, return_counts=True)\n",
        "# myword_hist = plt.bar(labels, counts, align='center', color='C0')\n",
        "# n_neighbour_smote = np.min(counts).astype(int) - 1\n",
        "# for i in range(len(counts)):\n",
        "#   plt.text(labels[i], counts[i]+0.5, counts[i])\n",
        "# plt.xlabel('SemCor Sense Tag') \n",
        "# plt.ylabel('Frequency')\n",
        "# plt.show()"
      ]
    },
    {
      "cell_type": "markdown",
      "source": [
        "## Clustering Systems"
      ],
      "metadata": {
        "id": "nYxUPY4KP1ph"
      }
    },
    {
      "cell_type": "markdown",
      "metadata": {
        "id": "o1VQphhemgdS"
      },
      "source": [
        "### k-means"
      ]
    },
    {
      "cell_type": "code",
      "execution_count": null,
      "metadata": {
        "colab": {
          "base_uri": "https://localhost:8080/"
        },
        "id": "WTZzcACdhEB-",
        "outputId": "e5792c19-9c84-40f1-a756-d28aeff96442"
      },
      "outputs": [
        {
          "output_type": "stream",
          "name": "stdout",
          "text": [
            "Nr. k-means clusters:  5\n"
          ]
        }
      ],
      "source": [
        "#objects\n",
        "if len(set(myword_semcor_wsns)) > 5:\n",
        "  n_clst = 5\n",
        "else:\n",
        "  n_clst = len(set(myword_semcor_wsns))\n",
        "print('Nr. k-means clusters: ', n_clst)\n",
        "\n",
        "#kmeans + BERT embedding\n",
        "bert_base_kmeans = KMeans(n_clusters=n_clst, max_iter=1000, tol=0.001,\n",
        "                          random_state=None, n_init=10, init=\"random\")\n",
        "bert_base_kmeans.fit(semcor_BERT_base_embs)\n",
        "kmeans_labels_semcor_bert = bert_base_kmeans.predict(semcor_BERT_base_embs)"
      ]
    },
    {
      "cell_type": "markdown",
      "metadata": {
        "id": "eanjYWjkmiYw"
      },
      "source": [
        "### Hierarchial"
      ]
    },
    {
      "cell_type": "code",
      "execution_count": null,
      "metadata": {
        "id": "FfCIvR8pmY_3"
      },
      "outputs": [],
      "source": [
        "bert_base_agg_hc = AgglomerativeClustering(n_clusters=n_clst, affinity = 'euclidean', linkage='ward')\n",
        "\n",
        "# model fitting on the dataset\n",
        "bert_base_agg_hc.fit_predict(semcor_BERT_base_embs)\n",
        "\n",
        "#labels\n",
        "agg_hc_base_labels = bert_base_agg_hc.labels_"
      ]
    },
    {
      "cell_type": "markdown",
      "source": [
        "### DBSCAN"
      ],
      "metadata": {
        "id": "FrtDNzfVqRBL"
      }
    },
    {
      "cell_type": "code",
      "source": [
        "# #dbscan + BERT embedding\n",
        "# dbscan = DBSCAN(metric='euclidean')\n",
        "# # Define the parameter grid for DBSCAN\n",
        "# param_grid = {'eps': [0.01, 0.05, 0.1, 0.5, 1, 1.5, 2, 3, 4, 10, 20],\n",
        "#               'min_samples': [2, 3, 4, 5, 6, 7, 8, 9, 10, 15, 20, 25, 30]}\n",
        "\n",
        "# # Define the grid search\n",
        "# # grid_search_dbscan = GridSearchCV(dbscan, param_grid, verbose=1,\n",
        "# #                                   cv=5, scoring=silhouette_score)\n",
        "\n",
        "# #train\n",
        "# labels = grid_search_dbscan.fit_predict(semcor_BERT_base_embs)\n",
        "# print(grid_search_dbscan.best_params_)\n",
        "\n",
        "# # Generate labels for data with model with raw data, compute score\n",
        "# score = silhouette_score(semcor_BERT_base_embs, labels)\n",
        "# # Print the best parameters and the corresponding silhouette score\n",
        "# print(\"Best eps: \", grid_search_dbscan.best_params_['eps'])\n",
        "# print(\"Best min_samples: \", grid_search_dbscan.best_params_['min_samples'])\n",
        "# print(\"Best adjusted_rand_score score: \", score)\n",
        "\n",
        "# #dbscan + BERT embedding\n",
        "# bert_base_dbscan = DBSCAN(metric='euclidean', eps=0.5, min_samples=18)\n",
        "# dbscan_labels_semcor_bert = bert_base_dbscan.fit_predict(semcor_BERT_base_embs)"
      ],
      "metadata": {
        "id": "7OpsxsQkqSZk"
      },
      "execution_count": null,
      "outputs": []
    },
    {
      "cell_type": "markdown",
      "metadata": {
        "id": "CKbsy-KJMEAr"
      },
      "source": [
        "## Dimensionality Reduction Process"
      ]
    },
    {
      "cell_type": "markdown",
      "metadata": {
        "id": "d0SSccySvUhd"
      },
      "source": [
        "### Principle Component Analysis (PCA)\n"
      ]
    },
    {
      "cell_type": "code",
      "source": [
        "mms = MinMaxScaler()"
      ],
      "metadata": {
        "id": "PplUC2snhWCl"
      },
      "execution_count": null,
      "outputs": []
    },
    {
      "cell_type": "code",
      "execution_count": null,
      "metadata": {
        "id": "SMCs-eR3rUrB",
        "colab": {
          "base_uri": "https://localhost:8080/"
        },
        "outputId": "e3822372-5190-4eab-9219-24cf586e2d36"
      },
      "outputs": [
        {
          "output_type": "execute_result",
          "data": {
            "text/plain": [
              "Text(0.5, 1.0, 'PCA | State')"
            ]
          },
          "metadata": {},
          "execution_count": 30
        },
        {
          "output_type": "display_data",
          "data": {
            "text/plain": [
              "<Figure size 432x288 with 1 Axes>"
            ],
            "image/png": "[encoded data removed]"
          },
          "metadata": {
            "needs_background": "light"
          }
        }
      ],
      "source": [
        "#PCA setup\n",
        "pca_base_5C = PCA(n_components=5, random_state=42)\n",
        "# base fit and transform\n",
        "pca_base_5C.fit(semcor_BERT_base_embs)\n",
        "pca_bert_base_5C = pca_base_5C.transform(semcor_BERT_base_embs)\n",
        "\n",
        "pca_bert_base_5C = mms.fit_transform(pca_bert_base_5C)\n",
        "plt.scatter(pca_bert_base_5C[:,0], pca_bert_base_5C[:,1], c=kmeans_labels_semcor_bert)\n",
        "plt.title(\"PCA | \"+myword.capitalize())"
      ]
    },
    {
      "cell_type": "markdown",
      "metadata": {
        "id": "uiys73bSxFPp"
      },
      "source": [
        "### Uniform Manifold Approximation and Projection (UMAP)"
      ]
    },
    {
      "cell_type": "code",
      "execution_count": null,
      "metadata": {
        "id": "nSNsnd587Ziz",
        "colab": {
          "base_uri": "https://localhost:8080/"
        },
        "outputId": "6dd01e74-756c-44d3-c951-90d587613767"
      },
      "outputs": [
        {
          "output_type": "execute_result",
          "data": {
            "text/plain": [
              "Text(0.5, 1.0, 'UMAP | State')"
            ]
          },
          "metadata": {},
          "execution_count": 31
        },
        {
          "output_type": "display_data",
          "data": {
            "text/plain": [
              "<Figure size 432x288 with 1 Axes>"
            ],
            "image/png": "[encoded data removed]"
          },
          "metadata": {
            "needs_background": "light"
          }
        }
      ],
      "source": [
        "#umap object\n",
        "umap_base_5C = UMAP(n_neighbors=10, n_components=5, random_state=20)\n",
        "umap_base_5C.fit(semcor_BERT_base_embs)\n",
        "umap_bert_base_5C = umap_base_5C.transform(semcor_BERT_base_embs)\n",
        "\n",
        "umap_bert_base_5C = mms.fit_transform(umap_bert_base_5C)\n",
        "plt.scatter(umap_bert_base_5C[:,0], umap_bert_base_5C[:,1], c=kmeans_labels_semcor_bert)\n",
        "plt.title(\"UMAP | \"+myword.capitalize())"
      ]
    },
    {
      "cell_type": "code",
      "source": [
        "#tsne object\n",
        "tsne_base_5C = TSNE(n_components=5, learning_rate='auto',\n",
        "                    init='random', perplexity=15, method='exact', random_state=42)\n",
        "tsne_bert_base_5C = tsne_base_5C.fit_transform(semcor_BERT_base_embs)\n",
        "\n",
        "tsne_bert_base_5C = mms.fit_transform(tsne_bert_base_5C)\n",
        "plt.scatter(tsne_bert_base_5C[:,0], tsne_bert_base_5C[:,1], c=numerical_sense_labels)\n",
        "# plt.title(\"tSEN | \"+myword.capitalize())"
      ],
      "metadata": {
        "colab": {
          "base_uri": "https://localhost:8080/"
        },
        "id": "-R0mJKmkbTRb",
        "outputId": "3c6be08e-a6a3-4419-dd06-08a8a29a2216"
      },
      "execution_count": null,
      "outputs": [
        {
          "output_type": "execute_result",
          "data": {
            "text/plain": [
              "<matplotlib.collections.PathCollection at 0x7f49b4068070>"
            ]
          },
          "metadata": {},
          "execution_count": 32
        },
        {
          "output_type": "display_data",
          "data": {
            "text/plain": [
              "<Figure size 432x288 with 1 Axes>"
            ],
            "image/png": "[encoded data removed]"
          },
          "metadata": {
            "needs_background": "light"
          }
        }
      ]
    },
    {
      "cell_type": "markdown",
      "metadata": {
        "id": "Fman8Ww35dO9"
      },
      "source": [
        "### Keamns after PCA - UMAP "
      ]
    },
    {
      "cell_type": "code",
      "execution_count": null,
      "metadata": {
        "id": "1uxhcJYp5cdC"
      },
      "outputs": [],
      "source": [
        "#3 components\n",
        "bert_base_kmeans_PCA_5C = KMeans(n_clusters=n_clst, max_iter=1000, tol=0.001,\n",
        "                                 random_state=None, n_init=10, init=\"random\")\n",
        "#train\n",
        "bert_base_kmeans_PCA_5C.fit(pca_bert_base_5C)\n",
        "kmeans_labels_semcor_PCA_5C = bert_base_kmeans_PCA_5C.predict(pca_bert_base_5C)"
      ]
    },
    {
      "cell_type": "code",
      "execution_count": null,
      "metadata": {
        "id": "0r8X_BMMBw8A"
      },
      "outputs": [],
      "source": [
        "#3 components\n",
        "bert_base_kmeans_UMAP_5C = KMeans(n_clusters=n_clst, max_iter=1000, tol=0.001,\n",
        "                                 random_state=None, n_init=10, init=\"random\")\n",
        "#train\n",
        "bert_base_kmeans_UMAP_5C.fit(umap_bert_base_5C)\n",
        "kmeans_labels_semcor_UMAP_5C = bert_base_kmeans_UMAP_5C.predict(umap_bert_base_5C)"
      ]
    },
    {
      "cell_type": "markdown",
      "metadata": {
        "id": "hnaqVnjw518D"
      },
      "source": [
        "### Hierarchial after PCA and UMAP"
      ]
    },
    {
      "cell_type": "code",
      "execution_count": null,
      "metadata": {
        "id": "duv5rBTsCVzy"
      },
      "outputs": [],
      "source": [
        "#3 components\n",
        "bert_base_agg_hc_PCA_5C = AgglomerativeClustering(n_clusters=n_clst, \n",
        "                                                  affinity = 'euclidean', linkage='ward')\n",
        "# model fitting on the dataset\n",
        "bert_base_agg_hc_PCA_5C.fit_predict(pca_bert_base_5C)\n",
        "#labels\n",
        "agg_hc_base_labels_hc_PCA_5C = bert_base_agg_hc_PCA_5C.labels_"
      ]
    },
    {
      "cell_type": "code",
      "execution_count": null,
      "metadata": {
        "id": "z3HPuJeH51Qo"
      },
      "outputs": [],
      "source": [
        "#3 components\n",
        "bert_base_agg_hc_UMAP_5C = AgglomerativeClustering(n_clusters=n_clst, \n",
        "                                                   affinity = 'euclidean', linkage='ward')\n",
        "# model fitting on the dataset\n",
        "bert_base_agg_hc_UMAP_5C.fit_predict(umap_bert_base_5C)\n",
        "#labels\n",
        "agg_hc_base_labels_hc_UMAP_5C = bert_base_agg_hc_UMAP_5C.labels_"
      ]
    },
    {
      "cell_type": "markdown",
      "metadata": {
        "id": "jYLWkyQHqjjh"
      },
      "source": [
        "## Matching labels"
      ]
    },
    {
      "cell_type": "code",
      "execution_count": null,
      "metadata": {
        "id": "f3R_w5EanQS6"
      },
      "outputs": [],
      "source": [
        "#sense is the base. We compare all combinations of labels to find the best match.\n",
        "def align_label(target_label, given_label, desc='k-means-768'):\n",
        "  best_map = 0\n",
        "  best_acc = 0\n",
        "  for i in itertools.permutations(np.arange(len(set(given_label)))):\n",
        "    map = np.array(i)\n",
        "    mapped_labels = map[given_label]\n",
        "    #accuracy coputaion\n",
        "    if accuracy_score(target_label, mapped_labels) > best_acc:\n",
        "      best_acc = accuracy_score(target_label, mapped_labels)\n",
        "      best_map = map\n",
        "\n",
        "  print(desc + ' ----> \\t best match rate: ', np.round(best_acc*100, 1), '% , \\t best map: ', best_map)\n",
        "  return best_map[given_label], np.round(best_acc*100, 1)"
      ]
    },
    {
      "cell_type": "code",
      "source": [
        "kmeans_base_labels_aligned, kmeans_base_labels_aligned_best_acc = align_label(numerical_sense_labels,\n",
        "                                                                              kmeans_labels_semcor_bert, desc='s1')"
      ],
      "metadata": {
        "id": "x9FDXwKEdWRa",
        "colab": {
          "base_uri": "https://localhost:8080/"
        },
        "outputId": "3b213258-9999-4f8f-87fc-caab0e33e637"
      },
      "execution_count": null,
      "outputs": [
        {
          "output_type": "stream",
          "name": "stdout",
          "text": [
            "s1 ----> \t best match rate:  38.0 % , \t best map:  [0 2 4 1 3]\n"
          ]
        }
      ]
    },
    {
      "cell_type": "code",
      "execution_count": null,
      "metadata": {
        "id": "_M3nE1w4E0xa"
      },
      "outputs": [],
      "source": [
        "systems_list = ['kmeans-main-768', 'HC-main-768', 'kmeans bert PCA-5c',\n",
        "                'HC bert PCA-5c', 'kmeans bert UMAP-5c', 'HC bert UMAP-5c']"
      ]
    },
    {
      "cell_type": "code",
      "execution_count": null,
      "metadata": {
        "colab": {
          "base_uri": "https://localhost:8080/"
        },
        "id": "RuSHR0wOtwIe",
        "outputId": "08728d27-67ce-4694-8fe6-e426b1799437"
      },
      "outputs": [
        {
          "output_type": "stream",
          "name": "stdout",
          "text": [
            "s1 ----> \t best match rate:  38.0 % , \t best map:  [0 2 4 1 3]\n",
            "s2 ----> \t best match rate:  36.8 % , \t best map:  [1 0 2 3 4]\n",
            "s3 ----> \t best match rate:  38.0 % , \t best map:  [1 0 2 3 4]\n",
            "s4 ----> \t best match rate:  37.4 % , \t best map:  [0 1 4 2 3]\n",
            "s5 ----> \t best match rate:  38.6 % , \t best map:  [2 3 0 4 1]\n",
            "s6 ----> \t best match rate:  38.0 % , \t best map:  [0 4 2 1 3]\n"
          ]
        }
      ],
      "source": [
        "kmeans_base_labels_aligned, kmeans_base_labels_aligned_best_acc = align_label(numerical_sense_labels,\n",
        "                                                                              kmeans_labels_semcor_bert, desc='s1')\n",
        "agg_hc_base_labels_aligned, agg_hc_base_labels_aligned_best_acc = align_label(numerical_sense_labels,\n",
        "                                                                              agg_hc_base_labels, desc='s2')\n",
        "kmeans_base_labels_PCA_5C_aligned, kmeans_base_labels_PCA_5C_aligned_best_acc = align_label(numerical_sense_labels,\n",
        "                                                                                            kmeans_labels_semcor_PCA_5C, desc='s3')\n",
        "agg_hc_base_labels_hc_PCA_5C_aligned, agg_hc_base_labels_hc_PCA_5C_aligned_best_acc = align_label(numerical_sense_labels,\n",
        "                                                                                                  agg_hc_base_labels_hc_PCA_5C, desc='s4')\n",
        "kmeans_base_labels_UMAP_5C_aligned, kmeans_base_labels_UMAP_5C_aligned_best_acc = align_label(numerical_sense_labels,\n",
        "                                                                                              kmeans_labels_semcor_UMAP_5C, desc='s5')\n",
        "agg_hc_base_labels_hc_UMAP_5C_aligned, agg_hc_base_labels_hc_UMAP_5C_aligned_best_acc = align_label(numerical_sense_labels,\n",
        "                                                                                                    agg_hc_base_labels_hc_UMAP_5C, desc='s6')"
      ]
    },
    {
      "cell_type": "code",
      "execution_count": null,
      "metadata": {
        "id": "JbYZ-EU36YeC"
      },
      "outputs": [],
      "source": [
        "def Dim_red_Dataframe(sense_labels, cluster_label1, cluster_label2, cluster_label3, cluster_label4,\n",
        "                      cluster_label5, cluster_label6):\n",
        "  '''\n",
        "  return dataframe\n",
        "  '''\n",
        "  #create the dataframe for my word with details of different labels\n",
        "  df_semcor_main = pd.DataFrame(myword_index_new, columns=['semcor_sentence_idx'])\n",
        "  #preprocessing for sentences\n",
        "  sentences = []\n",
        "  for i in df_semcor_main.iterrows():\n",
        "    sentences.append(' '.join(semcor_sents[i[1][0]]))\n",
        "  #add sentences to DF\n",
        "  df_semcor_main['text'] = sentences\n",
        "  #add senses of myword in each sentence\n",
        "  df_semcor_main['sense'] = sense_labels\n",
        "  df_semcor_main['s1'] = cluster_label1\n",
        "  df_semcor_main['s2'] = cluster_label2\n",
        "  df_semcor_main['s3'] = cluster_label3\n",
        "  df_semcor_main['s4'] = cluster_label4\n",
        "  df_semcor_main['s5'] = cluster_label5\n",
        "  df_semcor_main['s6'] = cluster_label6\n",
        "\n",
        "\n",
        "  return df_semcor_main"
      ]
    },
    {
      "cell_type": "code",
      "execution_count": null,
      "metadata": {
        "id": "MIFbuDg--KbV"
      },
      "outputs": [],
      "source": [
        "# dataframe of myword / before alignment\n",
        "df = Dim_red_Dataframe(sense_labels=myword_semcor_base_labels,\n",
        "                       cluster_label1=kmeans_labels_semcor_bert, cluster_label2=agg_hc_base_labels,\n",
        "                       cluster_label3=kmeans_labels_semcor_PCA_5C, cluster_label4=agg_hc_base_labels_hc_PCA_5C,\n",
        "                       cluster_label5=kmeans_labels_semcor_UMAP_5C, cluster_label6=agg_hc_base_labels_hc_UMAP_5C)\n",
        "# df.to_excel('SemCor_' + str(myword) + '_df.xlsx')"
      ]
    },
    {
      "cell_type": "code",
      "execution_count": null,
      "metadata": {
        "id": "dyKbsYtiK0sn"
      },
      "outputs": [],
      "source": [
        "# dataframe of myword / after alignment\n",
        "aligned_df = Dim_red_Dataframe(sense_labels=myword_semcor_base_labels,\n",
        "                               cluster_label1=kmeans_base_labels_aligned,\n",
        "                               cluster_label2=agg_hc_base_labels_aligned,\n",
        "                               cluster_label3=kmeans_base_labels_PCA_5C_aligned,\n",
        "                               cluster_label4=agg_hc_base_labels_hc_PCA_5C_aligned,\n",
        "                               cluster_label5=kmeans_base_labels_UMAP_5C_aligned,\n",
        "                               cluster_label6=agg_hc_base_labels_hc_UMAP_5C_aligned)\n",
        "aligned_df['simple_majority_voting'] = ''\n",
        "aligned_df['weighted_majority_voting'] = ''"
      ]
    },
    {
      "cell_type": "code",
      "execution_count": null,
      "metadata": {
        "id": "Ut1Q51tVNNMR"
      },
      "outputs": [],
      "source": [
        "#weighted majority voting\n",
        "annotator_expertise = [kmeans_base_labels_aligned_best_acc, agg_hc_base_labels_aligned_best_acc, kmeans_base_labels_PCA_5C_aligned_best_acc,\n",
        "                       agg_hc_base_labels_hc_PCA_5C_aligned_best_acc, kmeans_base_labels_UMAP_5C_aligned_best_acc,\n",
        "                       agg_hc_base_labels_hc_UMAP_5C_aligned_best_acc,\n",
        "                       ]\n",
        "for row in range(aligned_df.shape[0]):\n",
        "  simple_array = np.zeros((n_clst))\n",
        "  weight_array = np.zeros((n_clst))\n",
        "  for ann in range(len(annotator_expertise)):\n",
        "    label = aligned_df.values[row][ann+3]\n",
        "    simple_array[label] += 1\n",
        "    weight_array[label] += annotator_expertise[ann]\n",
        "  aligned_df.iloc[row, len(annotator_expertise)+3] = np.argmax(simple_array)\n",
        "  aligned_df.iloc[row, len(annotator_expertise)+4] = np.argmax(weight_array)"
      ]
    },
    {
      "cell_type": "code",
      "execution_count": null,
      "metadata": {
        "id": "SzaIU1ZOSk1g",
        "colab": {
          "base_uri": "https://localhost:8080/"
        },
        "outputId": "67af911f-f75b-4ce0-fa83-6ee64b4e8d26"
      },
      "outputs": [
        {
          "output_type": "execute_result",
          "data": {
            "text/plain": [
              "0"
            ]
          },
          "metadata": {},
          "execution_count": 45
        }
      ],
      "source": [
        "np.sum(np.abs(aligned_df['simple_majority_voting'] - aligned_df['weighted_majority_voting']))"
      ]
    },
    {
      "cell_type": "code",
      "execution_count": null,
      "metadata": {
        "id": "FO40DzWCTIo8"
      },
      "outputs": [],
      "source": [
        "# _, majority_voting_best_acc = align_label(numerical_sense_labels, np.array(aligned_df['simple_majority_voting'], np.int))"
      ]
    },
    {
      "cell_type": "code",
      "execution_count": null,
      "metadata": {
        "id": "xwozwRJ_UXfb"
      },
      "outputs": [],
      "source": [
        "# aligned_df.to_excel('SemCor_' + str(myword) + '_aligned_df.xlsx')"
      ]
    },
    {
      "cell_type": "code",
      "execution_count": null,
      "metadata": {
        "id": "rS18Ful3zT5k"
      },
      "outputs": [],
      "source": [
        "#prepare DS for interactive visualization\n",
        "def interactive_df(pca_bert_base_5C, method_name):\n",
        "  inter_df = pd.DataFrame(pca_bert_base_5C)\n",
        "  my_col = [method_name+'_Dim1', method_name+'_Dim2',\n",
        "            method_name+'_Dim3', method_name+'_Dim4', method_name+'_Dim5']\n",
        "  inter_df.columns = my_col\n",
        "  return inter_df\n",
        "\n",
        "pca_bert_df = interactive_df(pca_bert_base_5C, method_name='PCA_BERT')\n",
        "umap_bert_df = interactive_df(umap_bert_base_5C, method_name='UMP_BERT')\n",
        "\n",
        "interactive_df = pd.concat([pca_bert_df, umap_bert_df], axis=1)\n",
        "\n",
        "interactive_df['semcor_sentence_idx'] = aligned_df['semcor_sentence_idx']\n",
        "interactive_df['text'] = aligned_df['text']\n",
        "interactive_df['sense'] = aligned_df['sense']\n",
        "interactive_df['simple_majority_voting'] = aligned_df['simple_majority_voting']\n",
        "interactive_df['weighted_majority_voting'] = aligned_df['weighted_majority_voting']\n",
        "interactive_df['semcor_sense'] = numerical_sense_labels\n",
        "interactive_df['idx'] = range(1, len(interactive_df)+1)\n",
        "interactive_df = interactive_df.reindex(columns=['idx', 'semcor_sentence_idx', 'text', 'sense', 'semcor_sense', \n",
        "                                                 'simple_majority_voting', 'weighted_majority_voting',\n",
        "                                                 'PCA_BERT_Dim1', 'PCA_BERT_Dim2', 'PCA_BERT_Dim3', 'PCA_BERT_Dim4',\n",
        "                                                 'PCA_BERT_Dim5', 'UMP_BERT_Dim1', 'UMP_BERT_Dim2',\n",
        "                                                 'UMP_BERT_Dim3', 'UMP_BERT_Dim4', 'UMP_BERT_Dim5'])\n",
        "# interactive_df.to_excel('temp.xlsx')"
      ]
    },
    {
      "cell_type": "code",
      "execution_count": null,
      "metadata": {
        "id": "rJ8adgj4hswD"
      },
      "outputs": [],
      "source": [
        "df_temp = pd.read_excel('SemCor_'+myword+'_hvh3.xlsm')"
      ]
    },
    {
      "cell_type": "code",
      "execution_count": null,
      "metadata": {
        "id": "lYcdbeJxi1eL",
        "colab": {
          "base_uri": "https://localhost:8080/"
        },
        "outputId": "536d25c6-7a05-4b53-9baa-c869a82d5124"
      },
      "outputs": [
        {
          "output_type": "execute_result",
          "data": {
            "text/plain": [
              "Index(['#', 'semcor_sentence_idx', 'text', 'sense', 's1', 's2', 's3', 's4',\n",
              "       's5', 's6', 's7', 's8', 's9', 's10', 's11', 's12', 's13', 's14', 's15',\n",
              "       's16', 's17', 's18', 'simple_majority_voting',\n",
              "       'weighted_majority_voting', '%', 'sense correction', 'five senses',\n",
              "       'attach'],\n",
              "      dtype='object')"
            ]
          },
          "metadata": {},
          "execution_count": 52
        }
      ],
      "source": [
        "df_temp.columns"
      ]
    },
    {
      "cell_type": "code",
      "execution_count": null,
      "metadata": {
        "id": "a9F1qUHli6bB"
      },
      "outputs": [],
      "source": [
        "df_temp = df_temp.drop(['#', 'text', 'sense', 's1', 's2', 's3', 's4', 's5', 's6', 's7', 's8',\n",
        "                        's9', 's10', 's11', 's12', 's13', 's14', 's15', 's16', 's17', 's18',\n",
        "                        'simple_majority_voting', 'weighted_majority_voting', '%', \"sense correction\", \"attach\"], axis=1)\n",
        "# df_temp[\"five senses\"] = 0"
      ]
    },
    {
      "cell_type": "code",
      "execution_count": null,
      "metadata": {
        "id": "0OJUPeTTZsvO"
      },
      "outputs": [],
      "source": [
        "myword_handed_correction_labels = df_temp['five senses'].to_numpy()"
      ]
    },
    {
      "cell_type": "code",
      "execution_count": null,
      "metadata": {
        "id": "guegkzliYRZd"
      },
      "outputs": [],
      "source": [
        "#convert categorical (sense label) to numerical\n",
        "set_hand_labels, numerical_hand_cor_labels = np.unique(myword_handed_correction_labels, return_inverse=True)"
      ]
    },
    {
      "cell_type": "code",
      "source": [
        "#great new label alignment\n",
        "great_labels_aligned, great_labels_aligned_best_acc = align_label(numerical_sense_labels, \n",
        "                                                                  numerical_hand_cor_labels, desc='great_new_label')"
      ],
      "metadata": {
        "id": "5UYyLmBBqkAh",
        "colab": {
          "base_uri": "https://localhost:8080/"
        },
        "outputId": "aa4d436f-369a-43f5-a939-d5c162066fab"
      },
      "execution_count": null,
      "outputs": [
        {
          "output_type": "stream",
          "name": "stdout",
          "text": [
            "great_new_label ----> \t best match rate:  29.2 % , \t best map:  [0]\n"
          ]
        }
      ]
    },
    {
      "cell_type": "code",
      "execution_count": null,
      "metadata": {
        "id": "9KnS16HzaX4c"
      },
      "outputs": [],
      "source": [
        "df_temp['corrected_sense'] = great_labels_aligned"
      ]
    },
    {
      "cell_type": "code",
      "execution_count": null,
      "metadata": {
        "id": "Y2qw_rxwlASQ"
      },
      "outputs": [],
      "source": [
        "result = interactive_df.merge(df_temp, on='semcor_sentence_idx')"
      ]
    },
    {
      "cell_type": "code",
      "execution_count": null,
      "metadata": {
        "id": "qICI9o5vpRvC"
      },
      "outputs": [],
      "source": [
        "interactive_df = result.reindex(columns=['idx', 'semcor_sentence_idx', 'text', 'sense', 'semcor_sense',\n",
        "                                         'five senses', 'corrected_sense', 'simple_majority_voting',\n",
        "                                         'weighted_majority_voting', 'PCA_BERT_Dim1',\n",
        "                                         'PCA_BERT_Dim2', 'PCA_BERT_Dim3', 'PCA_BERT_Dim4',\n",
        "                                         'PCA_BERT_Dim5', 'UMP_BERT_Dim1', 'UMP_BERT_Dim2',\n",
        "                                         'UMP_BERT_Dim3', 'UMP_BERT_Dim4', 'UMP_BERT_Dim5'])"
      ]
    },
    {
      "cell_type": "code",
      "execution_count": null,
      "metadata": {
        "id": "cthq8P_sucrS"
      },
      "outputs": [],
      "source": [
        "interactive_df = interactive_df.set_index('idx', drop=True)"
      ]
    },
    {
      "cell_type": "code",
      "execution_count": null,
      "metadata": {
        "id": "M9vScxvHynLB"
      },
      "outputs": [],
      "source": [
        "cnt = 1\n",
        "len_line = 80\n",
        "for txt in interactive_df['text']:\n",
        "  for i in range(len(txt)//len_line - 1):\n",
        "    interactive_df['text'][cnt] = interactive_df['text'][cnt][:(i+1)*len_line] + ' <br> ' \\\n",
        "    + interactive_df['text'][cnt][(i+1)*len_line:]\n",
        "\n",
        "  # interactive_df['text'][cnt] = interactive_df['text'][cnt].lower()\n",
        "  interactive_df['text'][cnt] = interactive_df['text'][cnt].replace(myword, ' <em>'+myword+'</em> ')\n",
        "  interactive_df['text'][cnt] = interactive_df['text'][cnt].replace(myword.capitalize(), ' <em>'+myword.capitalize()+'</em> ')\n",
        "\n",
        "  cnt += 1"
      ]
    },
    {
      "cell_type": "code",
      "source": [
        "#normalizaing\n",
        "from sklearn.preprocessing import MinMaxScaler\n",
        "mm_sc = MinMaxScaler()\n",
        "interactive_df[[\"PCA_BERT_Dim1\", \"PCA_BERT_Dim2\", \"PCA_BERT_Dim3\", \"PCA_BERT_Dim4\", \"PCA_BERT_Dim5\"]] =\\\n",
        "    mm_sc.fit_transform(interactive_df[[\"PCA_BERT_Dim1\", \"PCA_BERT_Dim2\", \"PCA_BERT_Dim3\", \"PCA_BERT_Dim4\", \"PCA_BERT_Dim5\"]])\n",
        "\n",
        "interactive_df[[\"UMP_BERT_Dim1\", \"UMP_BERT_Dim2\", \"UMP_BERT_Dim3\", \"UMP_BERT_Dim4\", \"UMP_BERT_Dim5\"]] =\\\n",
        "    mm_sc.fit_transform(interactive_df[[\"UMP_BERT_Dim1\", \"UMP_BERT_Dim2\", \"UMP_BERT_Dim3\", \"UMP_BERT_Dim4\", \"UMP_BERT_Dim5\"]])"
      ],
      "metadata": {
        "id": "OADX4pErH4qL"
      },
      "execution_count": null,
      "outputs": []
    },
    {
      "cell_type": "code",
      "execution_count": null,
      "metadata": {
        "id": "URJj7M-EE72X"
      },
      "outputs": [],
      "source": [
        "interactive_df.to_excel('SemCor_interactive_df_' + str(myword) + '.xlsx')"
      ]
    },
    {
      "cell_type": "code",
      "execution_count": null,
      "metadata": {
        "id": "uwzlxfG7FqqJ"
      },
      "outputs": [],
      "source": [
        "url_myword_df = '/content/drive/MyDrive/Thesis/' + 'SemCor_interactive_df_' + str(myword)\n",
        "open_file = open(url_myword_df, \"wb\")\n",
        "pickle.dump(interactive_df, open_file)\n",
        "open_file.close()"
      ]
    },
    {
      "cell_type": "markdown",
      "source": [
        "##Evaluation"
      ],
      "metadata": {
        "id": "Sevs7oDSh9og"
      }
    },
    {
      "cell_type": "code",
      "source": [
        "simple_majority_voting_array = np.array(aligned_df['simple_majority_voting'])\n",
        "weighted_majority_voting_array = np.array(aligned_df['weighted_majority_voting'])\n",
        "corrected_sense = np.array(interactive_df['corrected_sense'])"
      ],
      "metadata": {
        "id": "LI6ddhxnjxcI"
      },
      "execution_count": null,
      "outputs": []
    },
    {
      "cell_type": "code",
      "source": [
        "metrics_df = pd.DataFrame()"
      ],
      "metadata": {
        "id": "5Ndn9NrS3Shh"
      },
      "execution_count": null,
      "outputs": []
    },
    {
      "cell_type": "code",
      "source": [
        "kmeans_base_labels_aligned, kmeans_base_labels_aligned_best_acc = align_label(numerical_sense_labels,\n",
        "                                                                              kmeans_labels_semcor_bert, desc='s1')\n",
        "agg_hc_base_labels_aligned, agg_hc_base_labels_aligned_best_acc = align_label(numerical_sense_labels,\n",
        "                                                                              agg_hc_base_labels, desc='s2')\n",
        "kmeans_base_labels_PCA_5C_aligned, kmeans_base_labels_PCA_5C_aligned_best_acc = align_label(numerical_sense_labels,\n",
        "                                                                                            kmeans_labels_semcor_PCA_5C, desc='s3')\n",
        "agg_hc_base_labels_hc_PCA_5C_aligned, agg_hc_base_labels_hc_PCA_5C_aligned_best_acc = align_label(numerical_sense_labels,\n",
        "                                                                                                  agg_hc_base_labels_hc_PCA_5C, desc='s4')\n",
        "kmeans_base_labels_UMAP_5C_aligned, kmeans_base_labels_UMAP_5C_aligned_best_acc = align_label(numerical_sense_labels,\n",
        "                                                                                              kmeans_labels_semcor_UMAP_5C, desc='s5')\n",
        "agg_hc_base_labels_hc_UMAP_5C_aligned, agg_hc_base_labels_hc_UMAP_5C_aligned_best_acc = align_label(numerical_sense_labels,\n",
        "                                                                                                    agg_hc_base_labels_hc_UMAP_5C, desc='s6')"
      ],
      "metadata": {
        "colab": {
          "base_uri": "https://localhost:8080/"
        },
        "id": "iQe5TyEfOnlE",
        "outputId": "e262b51c-c37c-4907-8402-8d1d7a0b6f1f"
      },
      "execution_count": null,
      "outputs": [
        {
          "output_type": "stream",
          "name": "stdout",
          "text": [
            "s1 ----> \t best match rate:  38.0 % , \t best map:  [0 2 4 1 3]\n",
            "s2 ----> \t best match rate:  36.8 % , \t best map:  [1 0 2 3 4]\n",
            "s3 ----> \t best match rate:  38.0 % , \t best map:  [1 0 2 3 4]\n",
            "s4 ----> \t best match rate:  37.4 % , \t best map:  [0 1 4 2 3]\n",
            "s5 ----> \t best match rate:  38.6 % , \t best map:  [2 3 0 4 1]\n",
            "s6 ----> \t best match rate:  38.0 % , \t best map:  [0 4 2 1 3]\n"
          ]
        }
      ]
    },
    {
      "cell_type": "code",
      "source": [
        "simple_majority_voting_array_aligned, simple_majority_voting_array_best_acc = align_label(numerical_sense_labels.astype(int),\n",
        "                                                                              simple_majority_voting_array.astype(int), desc='ss')\n",
        "weighted_majority_voting_array_aligned, weighted_majority_voting_array_best_acc = align_label(numerical_sense_labels.astype(int),\n",
        "                                                                              weighted_majority_voting_array.astype(int), desc='sw')\n",
        "kmeans_base_labels_aligned, kmeans_base_labels_aligned_best_acc = align_label(numerical_sense_labels.astype(int),\n",
        "                                                                              kmeans_labels_semcor_bert, desc='s1')\n",
        "agg_hc_base_labels_aligned, agg_hc_base_labels_aligned_best_acc = align_label(numerical_sense_labels.astype(int),\n",
        "                                                                              agg_hc_base_labels, desc='s2')"
      ],
      "metadata": {
        "colab": {
          "base_uri": "https://localhost:8080/"
        },
        "id": "pz8ZLNQAgyPu",
        "outputId": "42c7ec57-bf31-413b-e27b-4c21d9ed40c7"
      },
      "execution_count": null,
      "outputs": [
        {
          "output_type": "stream",
          "name": "stdout",
          "text": [
            "ss ----> \t best match rate:  38.6 % , \t best map:  [0 1 2 3 4]\n",
            "sw ----> \t best match rate:  38.6 % , \t best map:  [0 1 2 3 4]\n",
            "s1 ----> \t best match rate:  38.0 % , \t best map:  [0 2 4 1 3]\n",
            "s2 ----> \t best match rate:  36.8 % , \t best map:  [1 0 2 3 4]\n"
          ]
        }
      ]
    },
    {
      "cell_type": "code",
      "source": [
        "SLH_kmeans = silhouette_score(semcor_BERT_base_embs, kmeans_base_labels_aligned)\n",
        "SLH_agg = silhouette_score(semcor_BERT_base_embs, agg_hc_base_labels_aligned)\n",
        "SLH_voting = silhouette_score(semcor_BERT_base_embs, simple_majority_voting_array_aligned)\n",
        "SLH_w_voting = silhouette_score(semcor_BERT_base_embs, weighted_majority_voting_array_aligned)\n",
        "\n",
        "metrics_df[\"SLH\"] = [SLH_kmeans, SLH_agg, SLH_voting, SLH_w_voting]"
      ],
      "metadata": {
        "id": "AU-w8AOY030Z"
      },
      "execution_count": null,
      "outputs": []
    },
    {
      "cell_type": "code",
      "source": [
        "from sklearn.metrics import davies_bouldin_score\n",
        "DVB_kmeans = davies_bouldin_score(semcor_BERT_base_embs, kmeans_base_labels_aligned)\n",
        "DVB_agg = davies_bouldin_score(semcor_BERT_base_embs, agg_hc_base_labels_aligned)\n",
        "DVB_voting = davies_bouldin_score(semcor_BERT_base_embs, simple_majority_voting_array_aligned)\n",
        "DVB_w_voting = davies_bouldin_score(semcor_BERT_base_embs, weighted_majority_voting_array_aligned)\n",
        "\n",
        "metrics_df[\"DVB\"] = [DVB_kmeans, DVB_agg, DVB_voting, DVB_w_voting]"
      ],
      "metadata": {
        "id": "mbVPPN5X7yC0"
      },
      "execution_count": null,
      "outputs": []
    },
    {
      "cell_type": "code",
      "source": [
        "ARI_kmeans = adjusted_rand_score(kmeans_base_labels_aligned, numerical_sense_labels)\n",
        "ARI_agg = adjusted_rand_score(agg_hc_base_labels_aligned, numerical_sense_labels)\n",
        "ARI_voting = adjusted_rand_score(simple_majority_voting_array_aligned, numerical_sense_labels)\n",
        "ARI_w_voting = adjusted_rand_score(weighted_majority_voting_array_aligned, numerical_sense_labels)\n",
        "\n",
        "metrics_df[\"ARI\"] = [ARI_kmeans, ARI_agg, ARI_voting, ARI_w_voting]"
      ],
      "metadata": {
        "id": "qk4pwRssaWYc"
      },
      "execution_count": null,
      "outputs": []
    },
    {
      "cell_type": "code",
      "source": [
        "NMI_kmeans = normalized_mutual_info_score(kmeans_base_labels_aligned, numerical_sense_labels)\n",
        "NMI_agg = normalized_mutual_info_score(agg_hc_base_labels_aligned, numerical_sense_labels)\n",
        "NMI_voting = normalized_mutual_info_score(simple_majority_voting_array_aligned, numerical_sense_labels)\n",
        "NMI_w_voting = normalized_mutual_info_score(weighted_majority_voting_array_aligned, numerical_sense_labels)\n",
        "\n",
        "metrics_df[\"NMI\"] = [NMI_kmeans, NMI_agg, NMI_voting, NMI_w_voting]"
      ],
      "metadata": {
        "id": "l5Qi2NWEemXg"
      },
      "execution_count": null,
      "outputs": []
    },
    {
      "cell_type": "code",
      "source": [
        "FMI_kmeans = fowlkes_mallows_score(kmeans_base_labels_aligned, numerical_sense_labels)\n",
        "FMI_agg = fowlkes_mallows_score(agg_hc_base_labels_aligned, numerical_sense_labels)\n",
        "FMI_voting = fowlkes_mallows_score(simple_majority_voting_array_aligned, numerical_sense_labels)\n",
        "FMI_w_voting = fowlkes_mallows_score(weighted_majority_voting_array_aligned, numerical_sense_labels)\n",
        "\n",
        "metrics_df[\"FMI\"] = [FMI_kmeans, FMI_agg, FMI_voting, FMI_w_voting]"
      ],
      "metadata": {
        "id": "FiY2FXlifmHZ"
      },
      "execution_count": null,
      "outputs": []
    },
    {
      "cell_type": "code",
      "source": [
        "# JCC_kmeans = jaccard_score(kmeans_base_labels_aligned, numerical_sense_labels, average='macro')\n",
        "# JCC_agg = jaccard_score(agg_hc_base_labels_aligned, numerical_sense_labels, average='macro')\n",
        "# JCC_voting = jaccard_score(simple_majority_voting_array_aligned, numerical_sense_labels, average='macro')\n",
        "# JCC_w_voting = jaccard_score(weighted_majority_voting_array_aligned, numerical_sense_labels, average='macro')\n",
        "\n",
        "# metrics_df[\"JCC\"] = [JCC_kmeans, JCC_agg, JCC_voting, JCC_w_voting]"
      ],
      "metadata": {
        "id": "730nFU5cfyLN"
      },
      "execution_count": null,
      "outputs": []
    },
    {
      "cell_type": "code",
      "source": [
        "ACC_kmeans = accuracy_score(kmeans_base_labels_aligned, numerical_sense_labels)\n",
        "ACC_agg = accuracy_score(agg_hc_base_labels_aligned, numerical_sense_labels)\n",
        "ACC_voting = accuracy_score(simple_majority_voting_array_aligned, numerical_sense_labels)\n",
        "ACC_w_voting = accuracy_score(weighted_majority_voting_array_aligned, numerical_sense_labels)\n",
        "\n",
        "metrics_df[\"ACC\"] = [ACC_kmeans, ACC_agg, ACC_voting, ACC_w_voting]"
      ],
      "metadata": {
        "id": "KemYfp6lhwaD"
      },
      "execution_count": null,
      "outputs": []
    },
    {
      "cell_type": "code",
      "source": [
        "# !pip install torchmetrics\n",
        "from torchmetrics import Dice\n",
        "Dice1 = Dice(average='micro')\n",
        "DIC_kmeans = Dice1(torch.tensor(kmeans_base_labels_aligned),\n",
        "                  torch.tensor(numerical_sense_labels))\n",
        "DIC_agg = Dice1(torch.tensor(agg_hc_base_labels_aligned),\n",
        "               torch.tensor(numerical_sense_labels))\n",
        "DIC_voting = Dice1(torch.tensor(simple_majority_voting_array_aligned),\n",
        "                  torch.tensor(numerical_sense_labels))\n",
        "DIC_w_voting = Dice1(torch.tensor(weighted_majority_voting_array_aligned),\n",
        "                    torch.tensor(numerical_sense_labels))"
      ],
      "metadata": {
        "id": "_5S-4yDYvtI9"
      },
      "execution_count": null,
      "outputs": []
    },
    {
      "cell_type": "code",
      "source": [
        "Dice1(torch.tensor(great_labels_aligned),\n",
        "                    torch.tensor(numerical_sense_labels))"
      ],
      "metadata": {
        "id": "twXlZQAHMDFH"
      },
      "execution_count": null,
      "outputs": []
    },
    {
      "cell_type": "code",
      "source": [
        "metrics_df[\"DIC\"] = [DIC_kmeans.item(), DIC_agg.item(), DIC_voting.item(), DIC_w_voting.item()]"
      ],
      "metadata": {
        "id": "HOzCjg0j2GVN"
      },
      "execution_count": null,
      "outputs": []
    },
    {
      "cell_type": "markdown",
      "source": [
        "## Dataframe"
      ],
      "metadata": {
        "id": "nCxbZbR4mM2U"
      }
    },
    {
      "cell_type": "code",
      "source": [
        "metrics_df1 = metrics_df\n",
        "# metrics_df2 = metrics_df\n",
        "# metrics_df3 = metrics_df\n",
        "# metrics_df4 = metrics_df\n",
        "# metrics_df5 = metrics_df\n",
        "# metrics_df6 = metrics_df\n",
        "# metrics_df7 = metrics_df\n",
        "# metrics_df8 = metrics_df\n",
        "# metrics_df9 = metrics_df\n",
        "# metrics_df0 = metrics_df"
      ],
      "metadata": {
        "colab": {
          "base_uri": "https://localhost:8080/",
          "height": 175
        },
        "id": "pPZ25OQmdDA0",
        "outputId": "5c0a1563-0dc4-4e29-fc55-808b4b1a4979"
      },
      "execution_count": null,
      "outputs": [
        {
          "output_type": "execute_result",
          "data": {
            "text/plain": [
              "        NMI       FMI       ACC       DIC\n",
              "0  0.071057  0.277423  0.310345  0.310345\n",
              "1  0.057682  0.289428  0.339080  0.339080\n",
              "2  0.073033  0.291703  0.327586  0.327586\n",
              "3  0.070080  0.283082  0.316092  0.316092"
            ],
            "text/html": [
              "\n",
              "  <div id=\"df-40a8467c-fd3f-4a22-8e60-b2f07c478eba\">\n",
              "    <div class=\"colab-df-container\">\n",
              "      <div>\n",
              "<style scoped>\n",
              "    .dataframe tbody tr th:only-of-type {\n",
              "        vertical-align: middle;\n",
              "    }\n",
              "\n",
              "    .dataframe tbody tr th {\n",
              "        vertical-align: top;\n",
              "    }\n",
              "\n",
              "    .dataframe thead th {\n",
              "        text-align: right;\n",
              "    }\n",
              "</style>\n",
              "<table border=\"1\" class=\"dataframe\">\n",
              "  <thead>\n",
              "    <tr style=\"text-align: right;\">\n",
              "      <th></th>\n",
              "      <th>NMI</th>\n",
              "      <th>FMI</th>\n",
              "      <th>ACC</th>\n",
              "      <th>DIC</th>\n",
              "    </tr>\n",
              "  </thead>\n",
              "  <tbody>\n",
              "    <tr>\n",
              "      <th>0</th>\n",
              "      <td>0.071057</td>\n",
              "      <td>0.277423</td>\n",
              "      <td>0.310345</td>\n",
              "      <td>0.310345</td>\n",
              "    </tr>\n",
              "    <tr>\n",
              "      <th>1</th>\n",
              "      <td>0.057682</td>\n",
              "      <td>0.289428</td>\n",
              "      <td>0.339080</td>\n",
              "      <td>0.339080</td>\n",
              "    </tr>\n",
              "    <tr>\n",
              "      <th>2</th>\n",
              "      <td>0.073033</td>\n",
              "      <td>0.291703</td>\n",
              "      <td>0.327586</td>\n",
              "      <td>0.327586</td>\n",
              "    </tr>\n",
              "    <tr>\n",
              "      <th>3</th>\n",
              "      <td>0.070080</td>\n",
              "      <td>0.283082</td>\n",
              "      <td>0.316092</td>\n",
              "      <td>0.316092</td>\n",
              "    </tr>\n",
              "  </tbody>\n",
              "</table>\n",
              "</div>\n",
              "      <button class=\"colab-df-convert\" onclick=\"convertToInteractive('df-40a8467c-fd3f-4a22-8e60-b2f07c478eba')\"\n",
              "              title=\"Convert this dataframe to an interactive table.\"\n",
              "              style=\"display:none;\">\n",
              "        \n",
              "  <svg xmlns=\"http://www.w3.org/2000/svg\" height=\"24px\"viewBox=\"0 0 24 24\"\n",
              "       width=\"24px\">\n",
              "    <path d=\"M0 0h24v24H0V0z\" fill=\"none\"/>\n",
              "    <path d=\"M18.56 5.44l.94 2.06.94-2.06 2.06-.94-2.06-.94-.94-2.06-.94 2.06-2.06.94zm-11 1L8.5 8.5l.94-2.06 2.06-.94-2.06-.94L8.5 2.5l-.94 2.06-2.06.94zm10 10l.94 2.06.94-2.06 2.06-.94-2.06-.94-.94-2.06-.94 2.06-2.06.94z\"/><path d=\"M17.41 7.96l-1.37-1.37c-.4-.4-.92-.59-1.43-.59-.52 0-1.04.2-1.43.59L10.3 9.45l-7.72 7.72c-.78.78-.78 2.05 0 2.83L4 21.41c.39.39.9.59 1.41.59.51 0 1.02-.2 1.41-.59l7.78-7.78 2.81-2.81c.8-.78.8-2.07 0-2.86zM5.41 20L4 18.59l7.72-7.72 1.47 1.35L5.41 20z\"/>\n",
              "  </svg>\n",
              "      </button>\n",
              "      \n",
              "  <style>\n",
              "    .colab-df-container {\n",
              "      display:flex;\n",
              "      flex-wrap:wrap;\n",
              "      gap: 12px;\n",
              "    }\n",
              "\n",
              "    .colab-df-convert {\n",
              "      background-color: #E8F0FE;\n",
              "      border: none;\n",
              "      border-radius: 50%;\n",
              "      cursor: pointer;\n",
              "      display: none;\n",
              "      fill: #1967D2;\n",
              "      height: 32px;\n",
              "      padding: 0 0 0 0;\n",
              "      width: 32px;\n",
              "    }\n",
              "\n",
              "    .colab-df-convert:hover {\n",
              "      background-color: #E2EBFA;\n",
              "      box-shadow: 0px 1px 2px rgba(60, 64, 67, 0.3), 0px 1px 3px 1px rgba(60, 64, 67, 0.15);\n",
              "      fill: #174EA6;\n",
              "    }\n",
              "\n",
              "    [theme=dark] .colab-df-convert {\n",
              "      background-color: #3B4455;\n",
              "      fill: #D2E3FC;\n",
              "    }\n",
              "\n",
              "    [theme=dark] .colab-df-convert:hover {\n",
              "      background-color: #434B5C;\n",
              "      box-shadow: 0px 1px 3px 1px rgba(0, 0, 0, 0.15);\n",
              "      filter: drop-shadow(0px 1px 2px rgba(0, 0, 0, 0.3));\n",
              "      fill: #FFFFFF;\n",
              "    }\n",
              "  </style>\n",
              "\n",
              "      <script>\n",
              "        const buttonEl =\n",
              "          document.querySelector('#df-40a8467c-fd3f-4a22-8e60-b2f07c478eba button.colab-df-convert');\n",
              "        buttonEl.style.display =\n",
              "          google.colab.kernel.accessAllowed ? 'block' : 'none';\n",
              "\n",
              "        async function convertToInteractive(key) {\n",
              "          const element = document.querySelector('#df-40a8467c-fd3f-4a22-8e60-b2f07c478eba');\n",
              "          const dataTable =\n",
              "            await google.colab.kernel.invokeFunction('convertToInteractive',\n",
              "                                                     [key], {});\n",
              "          if (!dataTable) return;\n",
              "\n",
              "          const docLinkHtml = 'Like what you see? Visit the ' +\n",
              "            '<a target=\"_blank\" href=https://colab.research.google.com/notebooks/data_table.ipynb>data table notebook</a>'\n",
              "            + ' to learn more about interactive tables.';\n",
              "          element.innerHTML = '';\n",
              "          dataTable['output_type'] = 'display_data';\n",
              "          await google.colab.output.renderOutput(dataTable, element);\n",
              "          const docLink = document.createElement('div');\n",
              "          docLink.innerHTML = docLinkHtml;\n",
              "          element.appendChild(docLink);\n",
              "        }\n",
              "      </script>\n",
              "    </div>\n",
              "  </div>\n",
              "  "
            ]
          },
          "metadata": {},
          "execution_count": 1787
        }
      ]
    },
    {
      "cell_type": "code",
      "source": [
        "# cold_metrics_df = pd.DataFrame()\n",
        "cold_metrics_df = cold_metrics_df.append(metrics_df0)"
      ],
      "metadata": {
        "id": "oELvCELEnzpe"
      },
      "execution_count": null,
      "outputs": []
    },
    {
      "cell_type": "code",
      "source": [
        "cold_metrics_df.to_excel('SemCor_' + str(myword) + '_metrics.xlsx')"
      ],
      "metadata": {
        "id": "tyu3PdRj4gM7"
      },
      "execution_count": null,
      "outputs": []
    },
    {
      "cell_type": "markdown",
      "metadata": {
        "id": "MZX_Yi3j0Syt"
      },
      "source": [
        "## Elmos\n",
        "Embeddings from a language model trained on the 1 Billion Word Benchmark."
      ]
    },
    {
      "cell_type": "code",
      "execution_count": null,
      "metadata": {
        "id": "C0KDtNo21zw_"
      },
      "outputs": [],
      "source": [
        "# # Load pre trained ELMo model\n",
        "# elmo = hub.Module(\"https://tfhub.dev/google/elmo/3\", trainable=True)\n",
        "# #Semcor ELMo embedding\n",
        "# semcor_ELMo_base_embs = np.zeros((len(myword_index_new) , 1024))\n",
        "# #extract ELMo_base embedding\n",
        "# sentences = []\n",
        "# for i in tqdm(range(len(myword_index_new))):\n",
        "#   text = ' '.join(semcor_sents[myword_index_new[i]])\n",
        "#   text = remove_puncs(text)\n",
        "#   text = text.lower()\n",
        "#   sentences.append(text)\n",
        "\n",
        "# elmo_embedding = elmo(sentences, signature=\"default\", as_dict=True)[\"elmo\"]\n",
        "\n",
        "\n",
        "# #convert categorical (sense label) to numerical\n",
        "# set_labels_elmo, numerical_sense_labels_elmo = np.unique(myword_semcor_base_labels,\n",
        "#                                                          return_inverse=True)\n",
        "\n",
        "# #finding myword index in each sentence\n",
        "# idx_myword_dict = dict()\n",
        "# for i in range(len(myword_semcor_base_labels)):\n",
        "#   idx_myword = 0\n",
        "#   for word in sentences[i].split(' '):\n",
        "#     if word == myword:\n",
        "#       idx_myword_dict[i] = str(idx_myword)\n",
        "#     idx_myword += 1\n",
        "\n",
        "\n",
        "# init = tf.initialize_all_variables()\n",
        "# semcor_ELMO_myword_embs = []\n",
        "# with tf.Session() as sess:\n",
        "#   init.run()\n",
        "#   # Print word embeddings for myword\n",
        "#   for i in tqdm(range(len(myword_semcor_base_labels))):\n",
        "#     semcor_ELMO_myword_embs.append(sess.run(elmo_embedding[i][int(idx_myword_dict[i])]))"
      ]
    },
    {
      "cell_type": "code",
      "execution_count": null,
      "metadata": {
        "id": "LwVJDvDDv_V3"
      },
      "outputs": [],
      "source": [
        "# idx_hold_elmo = np.where(np.sum(semcor_ELMO_myword_embs, axis=1)!=0)[0]\n",
        "# myword_semcor_elmo_labels = np.array(myword_semcor_def)[idx_hold_elmo.astype(int)]\n",
        "# #convert categorical (sense label) to numerical\n",
        "# set_labels_elmo, numerical_sense_labels_elmo = np.unique(myword_semcor_elmo_labels,\n",
        "#                                                          return_inverse=True)\n",
        "# silhouette_score(semcor_ELMO_myword_embs, numerical_sense_labels_elmo)"
      ]
    },
    {
      "cell_type": "markdown",
      "metadata": {
        "id": "sZVtCDsgh8d_"
      },
      "source": [
        "## GPT-2"
      ]
    },
    {
      "cell_type": "code",
      "execution_count": null,
      "metadata": {
        "id": "p1byubhYiA5P"
      },
      "outputs": [],
      "source": [
        "# # Tokenize the input text\n",
        "# n_emb_base = 768\n",
        "# # Load the GPT model and tokenizer\n",
        "# gpt_model = transformers.GPT2Model.from_pretrained(\"gpt2\")\n",
        "# gpt_tokenizer = transformers.GPT2Tokenizer.from_pretrained(\"gpt2\")\n",
        "\n",
        "# def getEmbeddingGPT(text, desired_word_em, model, tokenizer):\n",
        "#   input_tokens = tokenizer.encode(text)\n",
        "#   # Convert the input tokens to a tensor\n",
        "#   input_tensor = torch.tensor(input_tokens).unsqueeze(0)\n",
        "#   # Extract the token embeddings\n",
        "#   output = model(input_tensor)[0]\n",
        "#   token_embeddings = output[0, :, :]\n",
        "#   # Extract the embeddings for the specific word you are interested in\n",
        "#   word_index = next((i for i, token in enumerate(str.split(text)) if token == desired_word_em), -1)\n",
        "#   word_embedding = token_embeddings[word_index, :]\n",
        "#   return word_embedding\n",
        "\n",
        "# #Semcor GPT embedding\n",
        "# semcor_GPT_embs = np.zeros((len(myword_index_new) , n_emb_base))\n",
        "# #extract gpt_base embedding\n",
        "# for i in tqdm(range(len(myword_index_new))):\n",
        "#   text = ' '.join(semcor_sents[myword_index_new[i]])\n",
        "#   text = remove_puncs(text)\n",
        "#   text = text.lower()\n",
        "#   try:\n",
        "#     em_gpt = getEmbeddingGPT(text, myword, gpt_model, gpt_tokenizer)\n",
        "#     semcor_GPT_embs[i] = em_gpt.detach().numpy()\n",
        "#   except:\n",
        "#     print('except ************')\n",
        "#     pass\n",
        "\n",
        "# idx_hold_gpt = np.where(np.sum(semcor_GPT_embs, axis=1)!=0)[0]\n",
        "# semcor_GPT_embs = semcor_GPT_embs[idx_hold_gpt]\n",
        "\n",
        "# myword_semcor_gpt_labels = np.array(myword_semcor_def)[idx_hold_gpt.astype(int)]"
      ]
    },
    {
      "cell_type": "code",
      "execution_count": null,
      "metadata": {
        "id": "ZXLANILctTf_"
      },
      "outputs": [],
      "source": [
        "# #convert categorical (sense label) to numerical\n",
        "# set_labels_gpt, numerical_sense_labels_gpt = np.unique(myword_semcor_gpt_labels,\n",
        "#                                                          return_inverse=True)"
      ]
    },
    {
      "cell_type": "code",
      "execution_count": null,
      "metadata": {
        "id": "dgFkV4-7pI7q"
      },
      "outputs": [],
      "source": [
        "# print(len(myword_semcor_gpt_labels))"
      ]
    }
  ],
  "metadata": {
    "colab": {
      "collapsed_sections": [
        "zZ7cEmcZnDdD",
        "gj09AlpX8-W3",
        "xGoXlKMIF_kJ",
        "nYxUPY4KP1ph",
        "o1VQphhemgdS",
        "CKbsy-KJMEAr",
        "d0SSccySvUhd",
        "uiys73bSxFPp",
        "Fman8Ww35dO9",
        "hnaqVnjw518D",
        "MZX_Yi3j0Syt"
      ],
      "provenance": []
    },
    "gpuClass": "standard",
    "kernelspec": {
      "display_name": "Python 3",
      "name": "python3"
    },
    "widgets": {
      "application/vnd.jupyter.widget-state+json": {
        "6af8c502a90a4130ae700b86c7c1d9e2": {
          "model_module": "@jupyter-widgets/controls",
          "model_name": "HBoxModel",
          "model_module_version": "1.5.0",
          "state": {
            "_dom_classes": [],
            "_model_module": "@jupyter-widgets/controls",
            "_model_module_version": "1.5.0",
            "_model_name": "HBoxModel",
            "_view_count": null,
            "_view_module": "@jupyter-widgets/controls",
            "_view_module_version": "1.5.0",
            "_view_name": "HBoxView",
            "box_style": "",
            "children": [
              "IPY_MODEL_910b7a76f5724947b72aa7ba4547b0b7",
              "IPY_MODEL_2def1d146dca42949b5ccf562cb63a49",
              "IPY_MODEL_99a6f09917f941c380ac52d5ab6143e0"
            ],
            "layout": "IPY_MODEL_4d5898b1eb974698815921411d8fe694"
          }
        },
        "910b7a76f5724947b72aa7ba4547b0b7": {
          "model_module": "@jupyter-widgets/controls",
          "model_name": "HTMLModel",
          "model_module_version": "1.5.0",
          "state": {
            "_dom_classes": [],
            "_model_module": "@jupyter-widgets/controls",
            "_model_module_version": "1.5.0",
            "_model_name": "HTMLModel",
            "_view_count": null,
            "_view_module": "@jupyter-widgets/controls",
            "_view_module_version": "1.5.0",
            "_view_name": "HTMLView",
            "description": "",
            "description_tooltip": null,
            "layout": "IPY_MODEL_74bdb5542a334e9ebbd4d7618c5064d8",
            "placeholder": "​",
            "style": "IPY_MODEL_6fd4ca0509234006bb48d2e53df48a3b",
            "value": "Downloading (…)solve/main/vocab.txt: 100%"
          }
        },
        "2def1d146dca42949b5ccf562cb63a49": {
          "model_module": "@jupyter-widgets/controls",
          "model_name": "FloatProgressModel",
          "model_module_version": "1.5.0",
          "state": {
            "_dom_classes": [],
            "_model_module": "@jupyter-widgets/controls",
            "_model_module_version": "1.5.0",
            "_model_name": "FloatProgressModel",
            "_view_count": null,
            "_view_module": "@jupyter-widgets/controls",
            "_view_module_version": "1.5.0",
            "_view_name": "ProgressView",
            "bar_style": "success",
            "description": "",
            "description_tooltip": null,
            "layout": "IPY_MODEL_84d4c79531a14c4a9a28489cd620e65f",
            "max": 231508,
            "min": 0,
            "orientation": "horizontal",
            "style": "IPY_MODEL_e229111089a54daebe38a661aaaf4fec",
            "value": 231508
          }
        },
        "99a6f09917f941c380ac52d5ab6143e0": {
          "model_module": "@jupyter-widgets/controls",
          "model_name": "HTMLModel",
          "model_module_version": "1.5.0",
          "state": {
            "_dom_classes": [],
            "_model_module": "@jupyter-widgets/controls",
            "_model_module_version": "1.5.0",
            "_model_name": "HTMLModel",
            "_view_count": null,
            "_view_module": "@jupyter-widgets/controls",
            "_view_module_version": "1.5.0",
            "_view_name": "HTMLView",
            "description": "",
            "description_tooltip": null,
            "layout": "IPY_MODEL_b761a2a6be284212b72789468ec4dff7",
            "placeholder": "​",
            "style": "IPY_MODEL_2d25bc4ed2e74d5a9888f1dded6d49ac",
            "value": " 232k/232k [00:00&lt;00:00, 1.13MB/s]"
          }
        },
        "4d5898b1eb974698815921411d8fe694": {
          "model_module": "@jupyter-widgets/base",
          "model_name": "LayoutModel",
          "model_module_version": "1.2.0",
          "state": {
            "_model_module": "@jupyter-widgets/base",
            "_model_module_version": "1.2.0",
            "_model_name": "LayoutModel",
            "_view_count": null,
            "_view_module": "@jupyter-widgets/base",
            "_view_module_version": "1.2.0",
            "_view_name": "LayoutView",
            "align_content": null,
            "align_items": null,
            "align_self": null,
            "border": null,
            "bottom": null,
            "display": null,
            "flex": null,
            "flex_flow": null,
            "grid_area": null,
            "grid_auto_columns": null,
            "grid_auto_flow": null,
            "grid_auto_rows": null,
            "grid_column": null,
            "grid_gap": null,
            "grid_row": null,
            "grid_template_areas": null,
            "grid_template_columns": null,
            "grid_template_rows": null,
            "height": null,
            "justify_content": null,
            "justify_items": null,
            "left": null,
            "margin": null,
            "max_height": null,
            "max_width": null,
            "min_height": null,
            "min_width": null,
            "object_fit": null,
            "object_position": null,
            "order": null,
            "overflow": null,
            "overflow_x": null,
            "overflow_y": null,
            "padding": null,
            "right": null,
            "top": null,
            "visibility": null,
            "width": null
          }
        },
        "74bdb5542a334e9ebbd4d7618c5064d8": {
          "model_module": "@jupyter-widgets/base",
          "model_name": "LayoutModel",
          "model_module_version": "1.2.0",
          "state": {
            "_model_module": "@jupyter-widgets/base",
            "_model_module_version": "1.2.0",
            "_model_name": "LayoutModel",
            "_view_count": null,
            "_view_module": "@jupyter-widgets/base",
            "_view_module_version": "1.2.0",
            "_view_name": "LayoutView",
            "align_content": null,
            "align_items": null,
            "align_self": null,
            "border": null,
            "bottom": null,
            "display": null,
            "flex": null,
            "flex_flow": null,
            "grid_area": null,
            "grid_auto_columns": null,
            "grid_auto_flow": null,
            "grid_auto_rows": null,
            "grid_column": null,
            "grid_gap": null,
            "grid_row": null,
            "grid_template_areas": null,
            "grid_template_columns": null,
            "grid_template_rows": null,
            "height": null,
            "justify_content": null,
            "justify_items": null,
            "left": null,
            "margin": null,
            "max_height": null,
            "max_width": null,
            "min_height": null,
            "min_width": null,
            "object_fit": null,
            "object_position": null,
            "order": null,
            "overflow": null,
            "overflow_x": null,
            "overflow_y": null,
            "padding": null,
            "right": null,
            "top": null,
            "visibility": null,
            "width": null
          }
        },
        "6fd4ca0509234006bb48d2e53df48a3b": {
          "model_module": "@jupyter-widgets/controls",
          "model_name": "DescriptionStyleModel",
          "model_module_version": "1.5.0",
          "state": {
            "_model_module": "@jupyter-widgets/controls",
            "_model_module_version": "1.5.0",
            "_model_name": "DescriptionStyleModel",
            "_view_count": null,
            "_view_module": "@jupyter-widgets/base",
            "_view_module_version": "1.2.0",
            "_view_name": "StyleView",
            "description_width": ""
          }
        },
        "84d4c79531a14c4a9a28489cd620e65f": {
          "model_module": "@jupyter-widgets/base",
          "model_name": "LayoutModel",
          "model_module_version": "1.2.0",
          "state": {
            "_model_module": "@jupyter-widgets/base",
            "_model_module_version": "1.2.0",
            "_model_name": "LayoutModel",
            "_view_count": null,
            "_view_module": "@jupyter-widgets/base",
            "_view_module_version": "1.2.0",
            "_view_name": "LayoutView",
            "align_content": null,
            "align_items": null,
            "align_self": null,
            "border": null,
            "bottom": null,
            "display": null,
            "flex": null,
            "flex_flow": null,
            "grid_area": null,
            "grid_auto_columns": null,
            "grid_auto_flow": null,
            "grid_auto_rows": null,
            "grid_column": null,
            "grid_gap": null,
            "grid_row": null,
            "grid_template_areas": null,
            "grid_template_columns": null,
            "grid_template_rows": null,
            "height": null,
            "justify_content": null,
            "justify_items": null,
            "left": null,
            "margin": null,
            "max_height": null,
            "max_width": null,
            "min_height": null,
            "min_width": null,
            "object_fit": null,
            "object_position": null,
            "order": null,
            "overflow": null,
            "overflow_x": null,
            "overflow_y": null,
            "padding": null,
            "right": null,
            "top": null,
            "visibility": null,
            "width": null
          }
        },
        "e229111089a54daebe38a661aaaf4fec": {
          "model_module": "@jupyter-widgets/controls",
          "model_name": "ProgressStyleModel",
          "model_module_version": "1.5.0",
          "state": {
            "_model_module": "@jupyter-widgets/controls",
            "_model_module_version": "1.5.0",
            "_model_name": "ProgressStyleModel",
            "_view_count": null,
            "_view_module": "@jupyter-widgets/base",
            "_view_module_version": "1.2.0",
            "_view_name": "StyleView",
            "bar_color": null,
            "description_width": ""
          }
        },
        "b761a2a6be284212b72789468ec4dff7": {
          "model_module": "@jupyter-widgets/base",
          "model_name": "LayoutModel",
          "model_module_version": "1.2.0",
          "state": {
            "_model_module": "@jupyter-widgets/base",
            "_model_module_version": "1.2.0",
            "_model_name": "LayoutModel",
            "_view_count": null,
            "_view_module": "@jupyter-widgets/base",
            "_view_module_version": "1.2.0",
            "_view_name": "LayoutView",
            "align_content": null,
            "align_items": null,
            "align_self": null,
            "border": null,
            "bottom": null,
            "display": null,
            "flex": null,
            "flex_flow": null,
            "grid_area": null,
            "grid_auto_columns": null,
            "grid_auto_flow": null,
            "grid_auto_rows": null,
            "grid_column": null,
            "grid_gap": null,
            "grid_row": null,
            "grid_template_areas": null,
            "grid_template_columns": null,
            "grid_template_rows": null,
            "height": null,
            "justify_content": null,
            "justify_items": null,
            "left": null,
            "margin": null,
            "max_height": null,
            "max_width": null,
            "min_height": null,
            "min_width": null,
            "object_fit": null,
            "object_position": null,
            "order": null,
            "overflow": null,
            "overflow_x": null,
            "overflow_y": null,
            "padding": null,
            "right": null,
            "top": null,
            "visibility": null,
            "width": null
          }
        },
        "2d25bc4ed2e74d5a9888f1dded6d49ac": {
          "model_module": "@jupyter-widgets/controls",
          "model_name": "DescriptionStyleModel",
          "model_module_version": "1.5.0",
          "state": {
            "_model_module": "@jupyter-widgets/controls",
            "_model_module_version": "1.5.0",
            "_model_name": "DescriptionStyleModel",
            "_view_count": null,
            "_view_module": "@jupyter-widgets/base",
            "_view_module_version": "1.2.0",
            "_view_name": "StyleView",
            "description_width": ""
          }
        },
        "a8799149152a4bba929b6d26d523fc62": {
          "model_module": "@jupyter-widgets/controls",
          "model_name": "HBoxModel",
          "model_module_version": "1.5.0",
          "state": {
            "_dom_classes": [],
            "_model_module": "@jupyter-widgets/controls",
            "_model_module_version": "1.5.0",
            "_model_name": "HBoxModel",
            "_view_count": null,
            "_view_module": "@jupyter-widgets/controls",
            "_view_module_version": "1.5.0",
            "_view_name": "HBoxView",
            "box_style": "",
            "children": [
              "IPY_MODEL_f431cf64df6f4bbab6ecb7bfc0ddf512",
              "IPY_MODEL_eb7bc6d5ce5b45f2b1781012adc20c1f",
              "IPY_MODEL_ca74a41e05934502b4bd9a872ea6b01c"
            ],
            "layout": "IPY_MODEL_719f0c0fae3a44a7bb46be79984faeda"
          }
        },
        "f431cf64df6f4bbab6ecb7bfc0ddf512": {
          "model_module": "@jupyter-widgets/controls",
          "model_name": "HTMLModel",
          "model_module_version": "1.5.0",
          "state": {
            "_dom_classes": [],
            "_model_module": "@jupyter-widgets/controls",
            "_model_module_version": "1.5.0",
            "_model_name": "HTMLModel",
            "_view_count": null,
            "_view_module": "@jupyter-widgets/controls",
            "_view_module_version": "1.5.0",
            "_view_name": "HTMLView",
            "description": "",
            "description_tooltip": null,
            "layout": "IPY_MODEL_2400382210bf424b8db74caa94452f40",
            "placeholder": "​",
            "style": "IPY_MODEL_f451f91726b545dfa58979982bfc7765",
            "value": "Downloading (…)okenizer_config.json: 100%"
          }
        },
        "eb7bc6d5ce5b45f2b1781012adc20c1f": {
          "model_module": "@jupyter-widgets/controls",
          "model_name": "FloatProgressModel",
          "model_module_version": "1.5.0",
          "state": {
            "_dom_classes": [],
            "_model_module": "@jupyter-widgets/controls",
            "_model_module_version": "1.5.0",
            "_model_name": "FloatProgressModel",
            "_view_count": null,
            "_view_module": "@jupyter-widgets/controls",
            "_view_module_version": "1.5.0",
            "_view_name": "ProgressView",
            "bar_style": "success",
            "description": "",
            "description_tooltip": null,
            "layout": "IPY_MODEL_5b21172b919d4eb7a5c04f40152b336a",
            "max": 28,
            "min": 0,
            "orientation": "horizontal",
            "style": "IPY_MODEL_473e98ea6cd946368cc822375a6aa061",
            "value": 28
          }
        },
        "ca74a41e05934502b4bd9a872ea6b01c": {
          "model_module": "@jupyter-widgets/controls",
          "model_name": "HTMLModel",
          "model_module_version": "1.5.0",
          "state": {
            "_dom_classes": [],
            "_model_module": "@jupyter-widgets/controls",
            "_model_module_version": "1.5.0",
            "_model_name": "HTMLModel",
            "_view_count": null,
            "_view_module": "@jupyter-widgets/controls",
            "_view_module_version": "1.5.0",
            "_view_name": "HTMLView",
            "description": "",
            "description_tooltip": null,
            "layout": "IPY_MODEL_d9d4ab1218f2402384f0d7d3a1040509",
            "placeholder": "​",
            "style": "IPY_MODEL_4bfcd31a8ad24003bbeb5594db1a6e4d",
            "value": " 28.0/28.0 [00:00&lt;00:00, 417B/s]"
          }
        },
        "719f0c0fae3a44a7bb46be79984faeda": {
          "model_module": "@jupyter-widgets/base",
          "model_name": "LayoutModel",
          "model_module_version": "1.2.0",
          "state": {
            "_model_module": "@jupyter-widgets/base",
            "_model_module_version": "1.2.0",
            "_model_name": "LayoutModel",
            "_view_count": null,
            "_view_module": "@jupyter-widgets/base",
            "_view_module_version": "1.2.0",
            "_view_name": "LayoutView",
            "align_content": null,
            "align_items": null,
            "align_self": null,
            "border": null,
            "bottom": null,
            "display": null,
            "flex": null,
            "flex_flow": null,
            "grid_area": null,
            "grid_auto_columns": null,
            "grid_auto_flow": null,
            "grid_auto_rows": null,
            "grid_column": null,
            "grid_gap": null,
            "grid_row": null,
            "grid_template_areas": null,
            "grid_template_columns": null,
            "grid_template_rows": null,
            "height": null,
            "justify_content": null,
            "justify_items": null,
            "left": null,
            "margin": null,
            "max_height": null,
            "max_width": null,
            "min_height": null,
            "min_width": null,
            "object_fit": null,
            "object_position": null,
            "order": null,
            "overflow": null,
            "overflow_x": null,
            "overflow_y": null,
            "padding": null,
            "right": null,
            "top": null,
            "visibility": null,
            "width": null
          }
        },
        "2400382210bf424b8db74caa94452f40": {
          "model_module": "@jupyter-widgets/base",
          "model_name": "LayoutModel",
          "model_module_version": "1.2.0",
          "state": {
            "_model_module": "@jupyter-widgets/base",
            "_model_module_version": "1.2.0",
            "_model_name": "LayoutModel",
            "_view_count": null,
            "_view_module": "@jupyter-widgets/base",
            "_view_module_version": "1.2.0",
            "_view_name": "LayoutView",
            "align_content": null,
            "align_items": null,
            "align_self": null,
            "border": null,
            "bottom": null,
            "display": null,
            "flex": null,
            "flex_flow": null,
            "grid_area": null,
            "grid_auto_columns": null,
            "grid_auto_flow": null,
            "grid_auto_rows": null,
            "grid_column": null,
            "grid_gap": null,
            "grid_row": null,
            "grid_template_areas": null,
            "grid_template_columns": null,
            "grid_template_rows": null,
            "height": null,
            "justify_content": null,
            "justify_items": null,
            "left": null,
            "margin": null,
            "max_height": null,
            "max_width": null,
            "min_height": null,
            "min_width": null,
            "object_fit": null,
            "object_position": null,
            "order": null,
            "overflow": null,
            "overflow_x": null,
            "overflow_y": null,
            "padding": null,
            "right": null,
            "top": null,
            "visibility": null,
            "width": null
          }
        },
        "f451f91726b545dfa58979982bfc7765": {
          "model_module": "@jupyter-widgets/controls",
          "model_name": "DescriptionStyleModel",
          "model_module_version": "1.5.0",
          "state": {
            "_model_module": "@jupyter-widgets/controls",
            "_model_module_version": "1.5.0",
            "_model_name": "DescriptionStyleModel",
            "_view_count": null,
            "_view_module": "@jupyter-widgets/base",
            "_view_module_version": "1.2.0",
            "_view_name": "StyleView",
            "description_width": ""
          }
        },
        "5b21172b919d4eb7a5c04f40152b336a": {
          "model_module": "@jupyter-widgets/base",
          "model_name": "LayoutModel",
          "model_module_version": "1.2.0",
          "state": {
            "_model_module": "@jupyter-widgets/base",
            "_model_module_version": "1.2.0",
            "_model_name": "LayoutModel",
            "_view_count": null,
            "_view_module": "@jupyter-widgets/base",
            "_view_module_version": "1.2.0",
            "_view_name": "LayoutView",
            "align_content": null,
            "align_items": null,
            "align_self": null,
            "border": null,
            "bottom": null,
            "display": null,
            "flex": null,
            "flex_flow": null,
            "grid_area": null,
            "grid_auto_columns": null,
            "grid_auto_flow": null,
            "grid_auto_rows": null,
            "grid_column": null,
            "grid_gap": null,
            "grid_row": null,
            "grid_template_areas": null,
            "grid_template_columns": null,
            "grid_template_rows": null,
            "height": null,
            "justify_content": null,
            "justify_items": null,
            "left": null,
            "margin": null,
            "max_height": null,
            "max_width": null,
            "min_height": null,
            "min_width": null,
            "object_fit": null,
            "object_position": null,
            "order": null,
            "overflow": null,
            "overflow_x": null,
            "overflow_y": null,
            "padding": null,
            "right": null,
            "top": null,
            "visibility": null,
            "width": null
          }
        },
        "473e98ea6cd946368cc822375a6aa061": {
          "model_module": "@jupyter-widgets/controls",
          "model_name": "ProgressStyleModel",
          "model_module_version": "1.5.0",
          "state": {
            "_model_module": "@jupyter-widgets/controls",
            "_model_module_version": "1.5.0",
            "_model_name": "ProgressStyleModel",
            "_view_count": null,
            "_view_module": "@jupyter-widgets/base",
            "_view_module_version": "1.2.0",
            "_view_name": "StyleView",
            "bar_color": null,
            "description_width": ""
          }
        },
        "d9d4ab1218f2402384f0d7d3a1040509": {
          "model_module": "@jupyter-widgets/base",
          "model_name": "LayoutModel",
          "model_module_version": "1.2.0",
          "state": {
            "_model_module": "@jupyter-widgets/base",
            "_model_module_version": "1.2.0",
            "_model_name": "LayoutModel",
            "_view_count": null,
            "_view_module": "@jupyter-widgets/base",
            "_view_module_version": "1.2.0",
            "_view_name": "LayoutView",
            "align_content": null,
            "align_items": null,
            "align_self": null,
            "border": null,
            "bottom": null,
            "display": null,
            "flex": null,
            "flex_flow": null,
            "grid_area": null,
            "grid_auto_columns": null,
            "grid_auto_flow": null,
            "grid_auto_rows": null,
            "grid_column": null,
            "grid_gap": null,
            "grid_row": null,
            "grid_template_areas": null,
            "grid_template_columns": null,
            "grid_template_rows": null,
            "height": null,
            "justify_content": null,
            "justify_items": null,
            "left": null,
            "margin": null,
            "max_height": null,
            "max_width": null,
            "min_height": null,
            "min_width": null,
            "object_fit": null,
            "object_position": null,
            "order": null,
            "overflow": null,
            "overflow_x": null,
            "overflow_y": null,
            "padding": null,
            "right": null,
            "top": null,
            "visibility": null,
            "width": null
          }
        },
        "4bfcd31a8ad24003bbeb5594db1a6e4d": {
          "model_module": "@jupyter-widgets/controls",
          "model_name": "DescriptionStyleModel",
          "model_module_version": "1.5.0",
          "state": {
            "_model_module": "@jupyter-widgets/controls",
            "_model_module_version": "1.5.0",
            "_model_name": "DescriptionStyleModel",
            "_view_count": null,
            "_view_module": "@jupyter-widgets/base",
            "_view_module_version": "1.2.0",
            "_view_name": "StyleView",
            "description_width": ""
          }
        },
        "433522575e0c439fbcbe9cada8d21989": {
          "model_module": "@jupyter-widgets/controls",
          "model_name": "HBoxModel",
          "model_module_version": "1.5.0",
          "state": {
            "_dom_classes": [],
            "_model_module": "@jupyter-widgets/controls",
            "_model_module_version": "1.5.0",
            "_model_name": "HBoxModel",
            "_view_count": null,
            "_view_module": "@jupyter-widgets/controls",
            "_view_module_version": "1.5.0",
            "_view_name": "HBoxView",
            "box_style": "",
            "children": [
              "IPY_MODEL_1f098f633f25437ebea6c7f44a4e7bf9",
              "IPY_MODEL_9fbc7c6212ca442c91b96a2549448e90",
              "IPY_MODEL_e08bdd4efd5d4243855980577895e727"
            ],
            "layout": "IPY_MODEL_a29cfad9fb7d45f997a59f6c8826680a"
          }
        },
        "1f098f633f25437ebea6c7f44a4e7bf9": {
          "model_module": "@jupyter-widgets/controls",
          "model_name": "HTMLModel",
          "model_module_version": "1.5.0",
          "state": {
            "_dom_classes": [],
            "_model_module": "@jupyter-widgets/controls",
            "_model_module_version": "1.5.0",
            "_model_name": "HTMLModel",
            "_view_count": null,
            "_view_module": "@jupyter-widgets/controls",
            "_view_module_version": "1.5.0",
            "_view_name": "HTMLView",
            "description": "",
            "description_tooltip": null,
            "layout": "IPY_MODEL_271ffdd61b1e4ba8b89f94b9ecdbbe1e",
            "placeholder": "​",
            "style": "IPY_MODEL_2c4c57855853465a8cc632eb95c8a858",
            "value": "Downloading (…)lve/main/config.json: 100%"
          }
        },
        "9fbc7c6212ca442c91b96a2549448e90": {
          "model_module": "@jupyter-widgets/controls",
          "model_name": "FloatProgressModel",
          "model_module_version": "1.5.0",
          "state": {
            "_dom_classes": [],
            "_model_module": "@jupyter-widgets/controls",
            "_model_module_version": "1.5.0",
            "_model_name": "FloatProgressModel",
            "_view_count": null,
            "_view_module": "@jupyter-widgets/controls",
            "_view_module_version": "1.5.0",
            "_view_name": "ProgressView",
            "bar_style": "success",
            "description": "",
            "description_tooltip": null,
            "layout": "IPY_MODEL_4c22aeee83464273aaa46a8af0fc8fbf",
            "max": 570,
            "min": 0,
            "orientation": "horizontal",
            "style": "IPY_MODEL_d42863bab92f47d29baff67f9303c8fa",
            "value": 570
          }
        },
        "e08bdd4efd5d4243855980577895e727": {
          "model_module": "@jupyter-widgets/controls",
          "model_name": "HTMLModel",
          "model_module_version": "1.5.0",
          "state": {
            "_dom_classes": [],
            "_model_module": "@jupyter-widgets/controls",
            "_model_module_version": "1.5.0",
            "_model_name": "HTMLModel",
            "_view_count": null,
            "_view_module": "@jupyter-widgets/controls",
            "_view_module_version": "1.5.0",
            "_view_name": "HTMLView",
            "description": "",
            "description_tooltip": null,
            "layout": "IPY_MODEL_d28b91e3feb84013815de1b47700c816",
            "placeholder": "​",
            "style": "IPY_MODEL_1575dcff1779475280c9a92aef4f4741",
            "value": " 570/570 [00:00&lt;00:00, 17.7kB/s]"
          }
        },
        "a29cfad9fb7d45f997a59f6c8826680a": {
          "model_module": "@jupyter-widgets/base",
          "model_name": "LayoutModel",
          "model_module_version": "1.2.0",
          "state": {
            "_model_module": "@jupyter-widgets/base",
            "_model_module_version": "1.2.0",
            "_model_name": "LayoutModel",
            "_view_count": null,
            "_view_module": "@jupyter-widgets/base",
            "_view_module_version": "1.2.0",
            "_view_name": "LayoutView",
            "align_content": null,
            "align_items": null,
            "align_self": null,
            "border": null,
            "bottom": null,
            "display": null,
            "flex": null,
            "flex_flow": null,
            "grid_area": null,
            "grid_auto_columns": null,
            "grid_auto_flow": null,
            "grid_auto_rows": null,
            "grid_column": null,
            "grid_gap": null,
            "grid_row": null,
            "grid_template_areas": null,
            "grid_template_columns": null,
            "grid_template_rows": null,
            "height": null,
            "justify_content": null,
            "justify_items": null,
            "left": null,
            "margin": null,
            "max_height": null,
            "max_width": null,
            "min_height": null,
            "min_width": null,
            "object_fit": null,
            "object_position": null,
            "order": null,
            "overflow": null,
            "overflow_x": null,
            "overflow_y": null,
            "padding": null,
            "right": null,
            "top": null,
            "visibility": null,
            "width": null
          }
        },
        "271ffdd61b1e4ba8b89f94b9ecdbbe1e": {
          "model_module": "@jupyter-widgets/base",
          "model_name": "LayoutModel",
          "model_module_version": "1.2.0",
          "state": {
            "_model_module": "@jupyter-widgets/base",
            "_model_module_version": "1.2.0",
            "_model_name": "LayoutModel",
            "_view_count": null,
            "_view_module": "@jupyter-widgets/base",
            "_view_module_version": "1.2.0",
            "_view_name": "LayoutView",
            "align_content": null,
            "align_items": null,
            "align_self": null,
            "border": null,
            "bottom": null,
            "display": null,
            "flex": null,
            "flex_flow": null,
            "grid_area": null,
            "grid_auto_columns": null,
            "grid_auto_flow": null,
            "grid_auto_rows": null,
            "grid_column": null,
            "grid_gap": null,
            "grid_row": null,
            "grid_template_areas": null,
            "grid_template_columns": null,
            "grid_template_rows": null,
            "height": null,
            "justify_content": null,
            "justify_items": null,
            "left": null,
            "margin": null,
            "max_height": null,
            "max_width": null,
            "min_height": null,
            "min_width": null,
            "object_fit": null,
            "object_position": null,
            "order": null,
            "overflow": null,
            "overflow_x": null,
            "overflow_y": null,
            "padding": null,
            "right": null,
            "top": null,
            "visibility": null,
            "width": null
          }
        },
        "2c4c57855853465a8cc632eb95c8a858": {
          "model_module": "@jupyter-widgets/controls",
          "model_name": "DescriptionStyleModel",
          "model_module_version": "1.5.0",
          "state": {
            "_model_module": "@jupyter-widgets/controls",
            "_model_module_version": "1.5.0",
            "_model_name": "DescriptionStyleModel",
            "_view_count": null,
            "_view_module": "@jupyter-widgets/base",
            "_view_module_version": "1.2.0",
            "_view_name": "StyleView",
            "description_width": ""
          }
        },
        "4c22aeee83464273aaa46a8af0fc8fbf": {
          "model_module": "@jupyter-widgets/base",
          "model_name": "LayoutModel",
          "model_module_version": "1.2.0",
          "state": {
            "_model_module": "@jupyter-widgets/base",
            "_model_module_version": "1.2.0",
            "_model_name": "LayoutModel",
            "_view_count": null,
            "_view_module": "@jupyter-widgets/base",
            "_view_module_version": "1.2.0",
            "_view_name": "LayoutView",
            "align_content": null,
            "align_items": null,
            "align_self": null,
            "border": null,
            "bottom": null,
            "display": null,
            "flex": null,
            "flex_flow": null,
            "grid_area": null,
            "grid_auto_columns": null,
            "grid_auto_flow": null,
            "grid_auto_rows": null,
            "grid_column": null,
            "grid_gap": null,
            "grid_row": null,
            "grid_template_areas": null,
            "grid_template_columns": null,
            "grid_template_rows": null,
            "height": null,
            "justify_content": null,
            "justify_items": null,
            "left": null,
            "margin": null,
            "max_height": null,
            "max_width": null,
            "min_height": null,
            "min_width": null,
            "object_fit": null,
            "object_position": null,
            "order": null,
            "overflow": null,
            "overflow_x": null,
            "overflow_y": null,
            "padding": null,
            "right": null,
            "top": null,
            "visibility": null,
            "width": null
          }
        },
        "d42863bab92f47d29baff67f9303c8fa": {
          "model_module": "@jupyter-widgets/controls",
          "model_name": "ProgressStyleModel",
          "model_module_version": "1.5.0",
          "state": {
            "_model_module": "@jupyter-widgets/controls",
            "_model_module_version": "1.5.0",
            "_model_name": "ProgressStyleModel",
            "_view_count": null,
            "_view_module": "@jupyter-widgets/base",
            "_view_module_version": "1.2.0",
            "_view_name": "StyleView",
            "bar_color": null,
            "description_width": ""
          }
        },
        "d28b91e3feb84013815de1b47700c816": {
          "model_module": "@jupyter-widgets/base",
          "model_name": "LayoutModel",
          "model_module_version": "1.2.0",
          "state": {
            "_model_module": "@jupyter-widgets/base",
            "_model_module_version": "1.2.0",
            "_model_name": "LayoutModel",
            "_view_count": null,
            "_view_module": "@jupyter-widgets/base",
            "_view_module_version": "1.2.0",
            "_view_name": "LayoutView",
            "align_content": null,
            "align_items": null,
            "align_self": null,
            "border": null,
            "bottom": null,
            "display": null,
            "flex": null,
            "flex_flow": null,
            "grid_area": null,
            "grid_auto_columns": null,
            "grid_auto_flow": null,
            "grid_auto_rows": null,
            "grid_column": null,
            "grid_gap": null,
            "grid_row": null,
            "grid_template_areas": null,
            "grid_template_columns": null,
            "grid_template_rows": null,
            "height": null,
            "justify_content": null,
            "justify_items": null,
            "left": null,
            "margin": null,
            "max_height": null,
            "max_width": null,
            "min_height": null,
            "min_width": null,
            "object_fit": null,
            "object_position": null,
            "order": null,
            "overflow": null,
            "overflow_x": null,
            "overflow_y": null,
            "padding": null,
            "right": null,
            "top": null,
            "visibility": null,
            "width": null
          }
        },
        "1575dcff1779475280c9a92aef4f4741": {
          "model_module": "@jupyter-widgets/controls",
          "model_name": "DescriptionStyleModel",
          "model_module_version": "1.5.0",
          "state": {
            "_model_module": "@jupyter-widgets/controls",
            "_model_module_version": "1.5.0",
            "_model_name": "DescriptionStyleModel",
            "_view_count": null,
            "_view_module": "@jupyter-widgets/base",
            "_view_module_version": "1.2.0",
            "_view_name": "StyleView",
            "description_width": ""
          }
        },
        "c4e21c30040b4bb89348383f0224ccd8": {
          "model_module": "@jupyter-widgets/controls",
          "model_name": "HBoxModel",
          "model_module_version": "1.5.0",
          "state": {
            "_dom_classes": [],
            "_model_module": "@jupyter-widgets/controls",
            "_model_module_version": "1.5.0",
            "_model_name": "HBoxModel",
            "_view_count": null,
            "_view_module": "@jupyter-widgets/controls",
            "_view_module_version": "1.5.0",
            "_view_name": "HBoxView",
            "box_style": "",
            "children": [
              "IPY_MODEL_dea805d38da94d0bae48bea0509b64ba",
              "IPY_MODEL_0b2a937237e546dd9c10b57cc6425b8b",
              "IPY_MODEL_6c1f31cfe80b47409e45c79166f05875"
            ],
            "layout": "IPY_MODEL_afed32051e734c8b975add81b1dce9aa"
          }
        },
        "dea805d38da94d0bae48bea0509b64ba": {
          "model_module": "@jupyter-widgets/controls",
          "model_name": "HTMLModel",
          "model_module_version": "1.5.0",
          "state": {
            "_dom_classes": [],
            "_model_module": "@jupyter-widgets/controls",
            "_model_module_version": "1.5.0",
            "_model_name": "HTMLModel",
            "_view_count": null,
            "_view_module": "@jupyter-widgets/controls",
            "_view_module_version": "1.5.0",
            "_view_name": "HTMLView",
            "description": "",
            "description_tooltip": null,
            "layout": "IPY_MODEL_000d0c2c4250412fade4afb890943d34",
            "placeholder": "​",
            "style": "IPY_MODEL_e9f9c5162b5a43b09e1e70736644de20",
            "value": "Downloading pytorch_model.bin: 100%"
          }
        },
        "0b2a937237e546dd9c10b57cc6425b8b": {
          "model_module": "@jupyter-widgets/controls",
          "model_name": "FloatProgressModel",
          "model_module_version": "1.5.0",
          "state": {
            "_dom_classes": [],
            "_model_module": "@jupyter-widgets/controls",
            "_model_module_version": "1.5.0",
            "_model_name": "FloatProgressModel",
            "_view_count": null,
            "_view_module": "@jupyter-widgets/controls",
            "_view_module_version": "1.5.0",
            "_view_name": "ProgressView",
            "bar_style": "success",
            "description": "",
            "description_tooltip": null,
            "layout": "IPY_MODEL_9a786d2d95ad44fe9a80a7c07e3c7556",
            "max": 440473133,
            "min": 0,
            "orientation": "horizontal",
            "style": "IPY_MODEL_570370b99ba34a1189711520f03cf1bd",
            "value": 440473133
          }
        },
        "6c1f31cfe80b47409e45c79166f05875": {
          "model_module": "@jupyter-widgets/controls",
          "model_name": "HTMLModel",
          "model_module_version": "1.5.0",
          "state": {
            "_dom_classes": [],
            "_model_module": "@jupyter-widgets/controls",
            "_model_module_version": "1.5.0",
            "_model_name": "HTMLModel",
            "_view_count": null,
            "_view_module": "@jupyter-widgets/controls",
            "_view_module_version": "1.5.0",
            "_view_name": "HTMLView",
            "description": "",
            "description_tooltip": null,
            "layout": "IPY_MODEL_cd01cc1a2a4243a5b4de8eccf0999046",
            "placeholder": "​",
            "style": "IPY_MODEL_6690e0eb9e0e4977927d85d84db5e5fe",
            "value": " 440M/440M [00:03&lt;00:00, 112MB/s]"
          }
        },
        "afed32051e734c8b975add81b1dce9aa": {
          "model_module": "@jupyter-widgets/base",
          "model_name": "LayoutModel",
          "model_module_version": "1.2.0",
          "state": {
            "_model_module": "@jupyter-widgets/base",
            "_model_module_version": "1.2.0",
            "_model_name": "LayoutModel",
            "_view_count": null,
            "_view_module": "@jupyter-widgets/base",
            "_view_module_version": "1.2.0",
            "_view_name": "LayoutView",
            "align_content": null,
            "align_items": null,
            "align_self": null,
            "border": null,
            "bottom": null,
            "display": null,
            "flex": null,
            "flex_flow": null,
            "grid_area": null,
            "grid_auto_columns": null,
            "grid_auto_flow": null,
            "grid_auto_rows": null,
            "grid_column": null,
            "grid_gap": null,
            "grid_row": null,
            "grid_template_areas": null,
            "grid_template_columns": null,
            "grid_template_rows": null,
            "height": null,
            "justify_content": null,
            "justify_items": null,
            "left": null,
            "margin": null,
            "max_height": null,
            "max_width": null,
            "min_height": null,
            "min_width": null,
            "object_fit": null,
            "object_position": null,
            "order": null,
            "overflow": null,
            "overflow_x": null,
            "overflow_y": null,
            "padding": null,
            "right": null,
            "top": null,
            "visibility": null,
            "width": null
          }
        },
        "000d0c2c4250412fade4afb890943d34": {
          "model_module": "@jupyter-widgets/base",
          "model_name": "LayoutModel",
          "model_module_version": "1.2.0",
          "state": {
            "_model_module": "@jupyter-widgets/base",
            "_model_module_version": "1.2.0",
            "_model_name": "LayoutModel",
            "_view_count": null,
            "_view_module": "@jupyter-widgets/base",
            "_view_module_version": "1.2.0",
            "_view_name": "LayoutView",
            "align_content": null,
            "align_items": null,
            "align_self": null,
            "border": null,
            "bottom": null,
            "display": null,
            "flex": null,
            "flex_flow": null,
            "grid_area": null,
            "grid_auto_columns": null,
            "grid_auto_flow": null,
            "grid_auto_rows": null,
            "grid_column": null,
            "grid_gap": null,
            "grid_row": null,
            "grid_template_areas": null,
            "grid_template_columns": null,
            "grid_template_rows": null,
            "height": null,
            "justify_content": null,
            "justify_items": null,
            "left": null,
            "margin": null,
            "max_height": null,
            "max_width": null,
            "min_height": null,
            "min_width": null,
            "object_fit": null,
            "object_position": null,
            "order": null,
            "overflow": null,
            "overflow_x": null,
            "overflow_y": null,
            "padding": null,
            "right": null,
            "top": null,
            "visibility": null,
            "width": null
          }
        },
        "e9f9c5162b5a43b09e1e70736644de20": {
          "model_module": "@jupyter-widgets/controls",
          "model_name": "DescriptionStyleModel",
          "model_module_version": "1.5.0",
          "state": {
            "_model_module": "@jupyter-widgets/controls",
            "_model_module_version": "1.5.0",
            "_model_name": "DescriptionStyleModel",
            "_view_count": null,
            "_view_module": "@jupyter-widgets/base",
            "_view_module_version": "1.2.0",
            "_view_name": "StyleView",
            "description_width": ""
          }
        },
        "9a786d2d95ad44fe9a80a7c07e3c7556": {
          "model_module": "@jupyter-widgets/base",
          "model_name": "LayoutModel",
          "model_module_version": "1.2.0",
          "state": {
            "_model_module": "@jupyter-widgets/base",
            "_model_module_version": "1.2.0",
            "_model_name": "LayoutModel",
            "_view_count": null,
            "_view_module": "@jupyter-widgets/base",
            "_view_module_version": "1.2.0",
            "_view_name": "LayoutView",
            "align_content": null,
            "align_items": null,
            "align_self": null,
            "border": null,
            "bottom": null,
            "display": null,
            "flex": null,
            "flex_flow": null,
            "grid_area": null,
            "grid_auto_columns": null,
            "grid_auto_flow": null,
            "grid_auto_rows": null,
            "grid_column": null,
            "grid_gap": null,
            "grid_row": null,
            "grid_template_areas": null,
            "grid_template_columns": null,
            "grid_template_rows": null,
            "height": null,
            "justify_content": null,
            "justify_items": null,
            "left": null,
            "margin": null,
            "max_height": null,
            "max_width": null,
            "min_height": null,
            "min_width": null,
            "object_fit": null,
            "object_position": null,
            "order": null,
            "overflow": null,
            "overflow_x": null,
            "overflow_y": null,
            "padding": null,
            "right": null,
            "top": null,
            "visibility": null,
            "width": null
          }
        },
        "570370b99ba34a1189711520f03cf1bd": {
          "model_module": "@jupyter-widgets/controls",
          "model_name": "ProgressStyleModel",
          "model_module_version": "1.5.0",
          "state": {
            "_model_module": "@jupyter-widgets/controls",
            "_model_module_version": "1.5.0",
            "_model_name": "ProgressStyleModel",
            "_view_count": null,
            "_view_module": "@jupyter-widgets/base",
            "_view_module_version": "1.2.0",
            "_view_name": "StyleView",
            "bar_color": null,
            "description_width": ""
          }
        },
        "cd01cc1a2a4243a5b4de8eccf0999046": {
          "model_module": "@jupyter-widgets/base",
          "model_name": "LayoutModel",
          "model_module_version": "1.2.0",
          "state": {
            "_model_module": "@jupyter-widgets/base",
            "_model_module_version": "1.2.0",
            "_model_name": "LayoutModel",
            "_view_count": null,
            "_view_module": "@jupyter-widgets/base",
            "_view_module_version": "1.2.0",
            "_view_name": "LayoutView",
            "align_content": null,
            "align_items": null,
            "align_self": null,
            "border": null,
            "bottom": null,
            "display": null,
            "flex": null,
            "flex_flow": null,
            "grid_area": null,
            "grid_auto_columns": null,
            "grid_auto_flow": null,
            "grid_auto_rows": null,
            "grid_column": null,
            "grid_gap": null,
            "grid_row": null,
            "grid_template_areas": null,
            "grid_template_columns": null,
            "grid_template_rows": null,
            "height": null,
            "justify_content": null,
            "justify_items": null,
            "left": null,
            "margin": null,
            "max_height": null,
            "max_width": null,
            "min_height": null,
            "min_width": null,
            "object_fit": null,
            "object_position": null,
            "order": null,
            "overflow": null,
            "overflow_x": null,
            "overflow_y": null,
            "padding": null,
            "right": null,
            "top": null,
            "visibility": null,
            "width": null
          }
        },
        "6690e0eb9e0e4977927d85d84db5e5fe": {
          "model_module": "@jupyter-widgets/controls",
          "model_name": "DescriptionStyleModel",
          "model_module_version": "1.5.0",
          "state": {
            "_model_module": "@jupyter-widgets/controls",
            "_model_module_version": "1.5.0",
            "_model_name": "DescriptionStyleModel",
            "_view_count": null,
            "_view_module": "@jupyter-widgets/base",
            "_view_module_version": "1.2.0",
            "_view_name": "StyleView",
            "description_width": ""
          }
        },
        "61773dd52b4f49de9c284720c52b15d8": {
          "model_module": "@jupyter-widgets/controls",
          "model_name": "HBoxModel",
          "model_module_version": "1.5.0",
          "state": {
            "_dom_classes": [],
            "_model_module": "@jupyter-widgets/controls",
            "_model_module_version": "1.5.0",
            "_model_name": "HBoxModel",
            "_view_count": null,
            "_view_module": "@jupyter-widgets/controls",
            "_view_module_version": "1.5.0",
            "_view_name": "HBoxView",
            "box_style": "",
            "children": [
              "IPY_MODEL_e91558b764be41f48b03295e44c2023c",
              "IPY_MODEL_40417e61562c4f419a8d0167476236c7",
              "IPY_MODEL_f31cc2c1f3b6476f87a9b3e2400f5fe8"
            ],
            "layout": "IPY_MODEL_46103b4e5b0144fe8793784e0f6ad3bf"
          }
        },
        "e91558b764be41f48b03295e44c2023c": {
          "model_module": "@jupyter-widgets/controls",
          "model_name": "HTMLModel",
          "model_module_version": "1.5.0",
          "state": {
            "_dom_classes": [],
            "_model_module": "@jupyter-widgets/controls",
            "_model_module_version": "1.5.0",
            "_model_name": "HTMLModel",
            "_view_count": null,
            "_view_module": "@jupyter-widgets/controls",
            "_view_module_version": "1.5.0",
            "_view_name": "HTMLView",
            "description": "",
            "description_tooltip": null,
            "layout": "IPY_MODEL_aead24cf1a704804a7edec9a380d18cc",
            "placeholder": "​",
            "style": "IPY_MODEL_9db70d89f7c84875ac0bd7e0ea7f91a1",
            "value": "100%"
          }
        },
        "40417e61562c4f419a8d0167476236c7": {
          "model_module": "@jupyter-widgets/controls",
          "model_name": "FloatProgressModel",
          "model_module_version": "1.5.0",
          "state": {
            "_dom_classes": [],
            "_model_module": "@jupyter-widgets/controls",
            "_model_module_version": "1.5.0",
            "_model_name": "FloatProgressModel",
            "_view_count": null,
            "_view_module": "@jupyter-widgets/controls",
            "_view_module_version": "1.5.0",
            "_view_name": "ProgressView",
            "bar_style": "success",
            "description": "",
            "description_tooltip": null,
            "layout": "IPY_MODEL_b3068b3e40b34ee3b8786961afcd1fa9",
            "max": 171,
            "min": 0,
            "orientation": "horizontal",
            "style": "IPY_MODEL_7917437541cd405a9e3e901b2deb4777",
            "value": 171
          }
        },
        "f31cc2c1f3b6476f87a9b3e2400f5fe8": {
          "model_module": "@jupyter-widgets/controls",
          "model_name": "HTMLModel",
          "model_module_version": "1.5.0",
          "state": {
            "_dom_classes": [],
            "_model_module": "@jupyter-widgets/controls",
            "_model_module_version": "1.5.0",
            "_model_name": "HTMLModel",
            "_view_count": null,
            "_view_module": "@jupyter-widgets/controls",
            "_view_module_version": "1.5.0",
            "_view_name": "HTMLView",
            "description": "",
            "description_tooltip": null,
            "layout": "IPY_MODEL_ebb6bea0c049411c89bc8913fbc3b5f2",
            "placeholder": "​",
            "style": "IPY_MODEL_32b2111db4c14323a3f62e085acac511",
            "value": " 171/171 [00:36&lt;00:00,  4.84it/s]"
          }
        },
        "46103b4e5b0144fe8793784e0f6ad3bf": {
          "model_module": "@jupyter-widgets/base",
          "model_name": "LayoutModel",
          "model_module_version": "1.2.0",
          "state": {
            "_model_module": "@jupyter-widgets/base",
            "_model_module_version": "1.2.0",
            "_model_name": "LayoutModel",
            "_view_count": null,
            "_view_module": "@jupyter-widgets/base",
            "_view_module_version": "1.2.0",
            "_view_name": "LayoutView",
            "align_content": null,
            "align_items": null,
            "align_self": null,
            "border": null,
            "bottom": null,
            "display": null,
            "flex": null,
            "flex_flow": null,
            "grid_area": null,
            "grid_auto_columns": null,
            "grid_auto_flow": null,
            "grid_auto_rows": null,
            "grid_column": null,
            "grid_gap": null,
            "grid_row": null,
            "grid_template_areas": null,
            "grid_template_columns": null,
            "grid_template_rows": null,
            "height": null,
            "justify_content": null,
            "justify_items": null,
            "left": null,
            "margin": null,
            "max_height": null,
            "max_width": null,
            "min_height": null,
            "min_width": null,
            "object_fit": null,
            "object_position": null,
            "order": null,
            "overflow": null,
            "overflow_x": null,
            "overflow_y": null,
            "padding": null,
            "right": null,
            "top": null,
            "visibility": null,
            "width": null
          }
        },
        "aead24cf1a704804a7edec9a380d18cc": {
          "model_module": "@jupyter-widgets/base",
          "model_name": "LayoutModel",
          "model_module_version": "1.2.0",
          "state": {
            "_model_module": "@jupyter-widgets/base",
            "_model_module_version": "1.2.0",
            "_model_name": "LayoutModel",
            "_view_count": null,
            "_view_module": "@jupyter-widgets/base",
            "_view_module_version": "1.2.0",
            "_view_name": "LayoutView",
            "align_content": null,
            "align_items": null,
            "align_self": null,
            "border": null,
            "bottom": null,
            "display": null,
            "flex": null,
            "flex_flow": null,
            "grid_area": null,
            "grid_auto_columns": null,
            "grid_auto_flow": null,
            "grid_auto_rows": null,
            "grid_column": null,
            "grid_gap": null,
            "grid_row": null,
            "grid_template_areas": null,
            "grid_template_columns": null,
            "grid_template_rows": null,
            "height": null,
            "justify_content": null,
            "justify_items": null,
            "left": null,
            "margin": null,
            "max_height": null,
            "max_width": null,
            "min_height": null,
            "min_width": null,
            "object_fit": null,
            "object_position": null,
            "order": null,
            "overflow": null,
            "overflow_x": null,
            "overflow_y": null,
            "padding": null,
            "right": null,
            "top": null,
            "visibility": null,
            "width": null
          }
        },
        "9db70d89f7c84875ac0bd7e0ea7f91a1": {
          "model_module": "@jupyter-widgets/controls",
          "model_name": "DescriptionStyleModel",
          "model_module_version": "1.5.0",
          "state": {
            "_model_module": "@jupyter-widgets/controls",
            "_model_module_version": "1.5.0",
            "_model_name": "DescriptionStyleModel",
            "_view_count": null,
            "_view_module": "@jupyter-widgets/base",
            "_view_module_version": "1.2.0",
            "_view_name": "StyleView",
            "description_width": ""
          }
        },
        "b3068b3e40b34ee3b8786961afcd1fa9": {
          "model_module": "@jupyter-widgets/base",
          "model_name": "LayoutModel",
          "model_module_version": "1.2.0",
          "state": {
            "_model_module": "@jupyter-widgets/base",
            "_model_module_version": "1.2.0",
            "_model_name": "LayoutModel",
            "_view_count": null,
            "_view_module": "@jupyter-widgets/base",
            "_view_module_version": "1.2.0",
            "_view_name": "LayoutView",
            "align_content": null,
            "align_items": null,
            "align_self": null,
            "border": null,
            "bottom": null,
            "display": null,
            "flex": null,
            "flex_flow": null,
            "grid_area": null,
            "grid_auto_columns": null,
            "grid_auto_flow": null,
            "grid_auto_rows": null,
            "grid_column": null,
            "grid_gap": null,
            "grid_row": null,
            "grid_template_areas": null,
            "grid_template_columns": null,
            "grid_template_rows": null,
            "height": null,
            "justify_content": null,
            "justify_items": null,
            "left": null,
            "margin": null,
            "max_height": null,
            "max_width": null,
            "min_height": null,
            "min_width": null,
            "object_fit": null,
            "object_position": null,
            "order": null,
            "overflow": null,
            "overflow_x": null,
            "overflow_y": null,
            "padding": null,
            "right": null,
            "top": null,
            "visibility": null,
            "width": null
          }
        },
        "7917437541cd405a9e3e901b2deb4777": {
          "model_module": "@jupyter-widgets/controls",
          "model_name": "ProgressStyleModel",
          "model_module_version": "1.5.0",
          "state": {
            "_model_module": "@jupyter-widgets/controls",
            "_model_module_version": "1.5.0",
            "_model_name": "ProgressStyleModel",
            "_view_count": null,
            "_view_module": "@jupyter-widgets/base",
            "_view_module_version": "1.2.0",
            "_view_name": "StyleView",
            "bar_color": null,
            "description_width": ""
          }
        },
        "ebb6bea0c049411c89bc8913fbc3b5f2": {
          "model_module": "@jupyter-widgets/base",
          "model_name": "LayoutModel",
          "model_module_version": "1.2.0",
          "state": {
            "_model_module": "@jupyter-widgets/base",
            "_model_module_version": "1.2.0",
            "_model_name": "LayoutModel",
            "_view_count": null,
            "_view_module": "@jupyter-widgets/base",
            "_view_module_version": "1.2.0",
            "_view_name": "LayoutView",
            "align_content": null,
            "align_items": null,
            "align_self": null,
            "border": null,
            "bottom": null,
            "display": null,
            "flex": null,
            "flex_flow": null,
            "grid_area": null,
            "grid_auto_columns": null,
            "grid_auto_flow": null,
            "grid_auto_rows": null,
            "grid_column": null,
            "grid_gap": null,
            "grid_row": null,
            "grid_template_areas": null,
            "grid_template_columns": null,
            "grid_template_rows": null,
            "height": null,
            "justify_content": null,
            "justify_items": null,
            "left": null,
            "margin": null,
            "max_height": null,
            "max_width": null,
            "min_height": null,
            "min_width": null,
            "object_fit": null,
            "object_position": null,
            "order": null,
            "overflow": null,
            "overflow_x": null,
            "overflow_y": null,
            "padding": null,
            "right": null,
            "top": null,
            "visibility": null,
            "width": null
          }
        },
        "32b2111db4c14323a3f62e085acac511": {
          "model_module": "@jupyter-widgets/controls",
          "model_name": "DescriptionStyleModel",
          "model_module_version": "1.5.0",
          "state": {
            "_model_module": "@jupyter-widgets/controls",
            "_model_module_version": "1.5.0",
            "_model_name": "DescriptionStyleModel",
            "_view_count": null,
            "_view_module": "@jupyter-widgets/base",
            "_view_module_version": "1.2.0",
            "_view_name": "StyleView",
            "description_width": ""
          }
        }
      }
    }
  },
  "nbformat": 4,
  "nbformat_minor": 0
}